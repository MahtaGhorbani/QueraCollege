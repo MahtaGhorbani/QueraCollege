{
 "cells": [
  {
   "cell_type": "markdown",
   "metadata": {},
   "source": [
    "- .فراخوانی ماژول متپلات‌لیب برای تصویر سازی داده‌ها \n",
    "- .فراخوانی ماژول پانداس به منظور فراخوانی و کار با داده‌ها "
   ]
  },
  {
   "cell_type": "code",
   "execution_count": 1,
   "metadata": {},
   "outputs": [],
   "source": [
    "import matplotlib.pyplot as plt\n",
    "import pandas as pd"
   ]
  },
  {
   "cell_type": "markdown",
   "metadata": {},
   "source": [
    "فراخوانی داده‌های گل زنبق از فایل.  \n",
    "جداسازی کلاس‌های مختلف در داده.  "
   ]
  },
  {
   "cell_type": "code",
   "execution_count": null,
   "metadata": {},
   "outputs": [],
   "source": []
  },
  {
   "cell_type": "code",
   "execution_count": 2,
   "metadata": {},
   "outputs": [],
   "source": [
    "df_iris = pd.read_csv('iris.csv')\n",
    "classes = sorted(set(df_iris['class']))"
   ]
  },
  {
   "cell_type": "markdown",
   "metadata": {},
   "source": [
    "نمودار نقطه‌ای ستون **طول کاسبرگ و طول گلبرگ**.  "
   ]
  },
  {
   "cell_type": "code",
   "execution_count": 3,
   "metadata": {},
   "outputs": [
    {
     "data": {
      "image/png": "[encoded data removed]",
      "text/plain": [
       "<Figure size 432x288 with 1 Axes>"
      ]
     },
     "metadata": {
      "needs_background": "light"
     },
     "output_type": "display_data"
    }
   ],
   "source": [
    "plt.figure()\n",
    "plt.title('Sepal_Length vs Petal_Length')\n",
    "\n",
    "plt.scatter( df_iris['sepal_length'], df_iris['petal_length'] )\n",
    "\n",
    "plt.xlabel('Sepal_Length')\n",
    "plt.ylabel('Petal_Length')\n",
    "plt.show()"
   ]
  },
  {
   "cell_type": "code",
   "execution_count": null,
   "metadata": {},
   "outputs": [],
   "source": []
  },
  {
   "cell_type": "markdown",
   "metadata": {},
   "source": [
    "هیستوگرام عرض گلبرگ‌های تمامی گل‌ها.  "
   ]
  },
  {
   "cell_type": "code",
   "execution_count": 4,
   "metadata": {},
   "outputs": [
    {
     "data": {
      "image/png": "[encoded data removed]",
      "text/plain": [
       "<Figure size 432x288 with 1 Axes>"
      ]
     },
     "metadata": {
      "needs_background": "light"
     },
     "output_type": "display_data"
    }
   ],
   "source": [
    "plt.figure()\n",
    "plt.title('Histogram of Petal Width')\n",
    "\n",
    "plt.hist( df_iris['petal_width'], bins = 20 )\n",
    "\n",
    "plt.ylabel('Frequency')\n",
    "plt.xlabel('Petal Width')\n",
    "plt.show()"
   ]
  },
  {
   "cell_type": "code",
   "execution_count": null,
   "metadata": {},
   "outputs": [],
   "source": []
  },
  {
   "cell_type": "markdown",
   "metadata": {},
   "source": [
    "نمودار جعبه‌ای عرض گلبرگ بر اساس گونه‌ی گل‌ها.  "
   ]
  },
  {
   "cell_type": "code",
   "execution_count": 5,
   "metadata": {},
   "outputs": [
    {
     "data": {
      "image/png": "[encoded data removed]",
      "text/plain": [
       "<Figure size 432x288 with 1 Axes>"
      ]
     },
     "metadata": {
      "needs_background": "light"
     },
     "output_type": "display_data"
    }
   ],
   "source": [
    "ys = []\n",
    "for _class in classes:\n",
    "    ys.append( df_iris['petal_width'][ df_iris['class'] == _class ].tolist() )\n",
    "#\n",
    "plt.figure()\n",
    "plt.title('Boxplot of Petal_Width for Classes')\n",
    "\n",
    "plt.boxplot( ys, labels = classes )\n",
    "\n",
    "plt.ylabel( 'Petal Width' )\n",
    "plt.show()"
   ]
  },
  {
   "cell_type": "code",
   "execution_count": null,
   "metadata": {},
   "outputs": [],
   "source": []
  },
  {
   "cell_type": "markdown",
   "metadata": {},
   "source": [
    "نمودار نقطه‌ای طول کاسبرگ و طول گلبرگ، رنگ شده بر اساس گونه‌ی گل زنبق.  "
   ]
  },
  {
   "cell_type": "code",
   "execution_count": null,
   "metadata": {},
   "outputs": [],
   "source": [
    "# Colors\n",
    "colors_dict = dict(zip(\n",
    "    classes, [ 'red', 'green', 'blue' ]\n",
    "))\n",
    "\n",
    "# Visualize\n",
    "plt.figure()\n",
    "plt.title('Sepal Length vs. Petal Length')\n",
    "\n",
    "for _class in classes:\n",
    "    to_plot = df_iris[ df_iris['class'] == _class ]\n",
    "    plt.scatter(\n",
    "        to_plot['sepal_length'],\n",
    "        to_plot['petal_length'],\n",
    "        c = colors_dict[_class],\n",
    "        label = _class\n",
    "    )\n",
    "\n",
    "plt.legend()\n",
    "plt.show()"
   ]
  },
  {
   "cell_type": "code",
   "execution_count": null,
   "metadata": {},
   "outputs": [],
   "source": []
  },
  {
   "cell_type": "markdown",
   "metadata": {},
   "source": [
    "نمودار نقطه‌ای طول کاسبرگ، طول گلبرگ این بار با اندازه‌ی نقطه‌ها متناظر با طول گلبرگ.  "
   ]
  },
  {
   "cell_type": "code",
   "execution_count": null,
   "metadata": {},
   "outputs": [],
   "source": [
    "# Colors\n",
    "colors_dict = dict(zip(\n",
    "    classes, [ 'red', 'green', 'blue' ]\n",
    "))\n",
    "\n",
    "# Visualize\n",
    "plt.figure()\n",
    "plt.title('Sepal Length vs. Petal Length')\n",
    "\n",
    "for _class in classes:\n",
    "    to_plot = df_iris[ df_iris['class'] == _class ]\n",
    "    plt.scatter(\n",
    "        to_plot['sepal_length'],\n",
    "        to_plot['petal_length'],\n",
    "        c = colors_dict[_class],\n",
    "        s = to_plot['petal_width']*20,\n",
    "        label = _class\n",
    "    )\n",
    "#\n",
    "plt.legend()\n",
    "plt.xlabel('Sepal Length')\n",
    "plt.ylabel('Petal Length')\n",
    "plt.show()"
   ]
  },
  {
   "cell_type": "code",
   "execution_count": null,
   "metadata": {},
   "outputs": [],
   "source": []
  },
  {
   "cell_type": "code",
   "execution_count": null,
   "metadata": {},
   "outputs": [],
   "source": []
  },
  {
   "cell_type": "code",
   "execution_count": null,
   "metadata": {},
   "outputs": [],
   "source": []
  },
  {
   "cell_type": "code",
   "execution_count": null,
   "metadata": {},
   "outputs": [],
   "source": []
  },
  {
   "cell_type": "code",
   "execution_count": null,
   "metadata": {},
   "outputs": [],
   "source": []
  },
  {
   "cell_type": "code",
   "execution_count": null,
   "metadata": {},
   "outputs": [],
   "source": []
  },
  {
   "cell_type": "code",
   "execution_count": null,
   "metadata": {},
   "outputs": [],
   "source": [
    "\n",
    "\n",
    "\n",
    "\n",
    "\n",
    "\n",
    "\n",
    "\n",
    "\n",
    "\n",
    "\n",
    "\n",
    "\n",
    "\n",
    "\n",
    "\n",
    "\n",
    "\n",
    "\n",
    "\n",
    "\n",
    "\n",
    "\n",
    "\n",
    "\n",
    "\n",
    "\n",
    "\n",
    "\n",
    "\n",
    "\n",
    "\n",
    "\n",
    "\n",
    "\n",
    "\n",
    "\n",
    "\n",
    "\n"
   ]
  }
 ],
 "metadata": {
  "kernelspec": {
   "display_name": "Python 3",
   "language": "python",
   "name": "python3"
  },
  "language_info": {
   "codemirror_mode": {
    "name": "ipython",
    "version": 3
   },
   "file_extension": ".py",
   "mimetype": "text/x-python",
   "name": "python",
   "nbconvert_exporter": "python",
   "pygments_lexer": "ipython3",
   "version": "3.7.4"
  }
 },
 "nbformat": 4,
 "nbformat_minor": 4
}
