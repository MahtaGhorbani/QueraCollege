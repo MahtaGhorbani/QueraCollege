{
 "cells": [
  {
   "cell_type": "markdown",
   "metadata": {},
   "source": [
    "## اضافه کردن کتابخانه‌های مورد نیاز"
   ]
  },
  {
   "cell_type": "code",
   "execution_count": 15,
   "metadata": {},
   "outputs": [],
   "source": [
    "import pandas as pd\n",
    "import numpy as np\n",
    "import matplotlib.pyplot as plt\n",
    "from matplotlib import mlab\n"
   ]
  },
  {
   "cell_type": "markdown",
   "metadata": {},
   "source": [
    "## خواندن داده\n",
    "فایل‌های `boys.csv` و `girls.csv` که داخل همین پوشه قرار دارند را بخوانید.\n",
    "- دقت کنید برای جداسازی مقادیر در این فایل‌ها به جای `,` از `tab` استفاده شده است.\n",
    "- در داده‌ها روز ۰ وجود دارد که منظور هنگام به دنیا آمدن نوزاد است."
   ]
  },
  {
   "cell_type": "markdown",
   "metadata": {},
   "source": [
    "boys=pd.read_csv(\"boys.csv\",sep='\\t')\n",
    "girls=pd.read_csv(\"girls.csv\",sep='\\t')"
   ]
  },
  {
   "cell_type": "markdown",
   "metadata": {},
   "source": [
    "در هر دو دیتافریم شامل اطلاعات پسران و دختران، دو ستون با نام‌های `P01` و `P999` قرار دارند که نشان دهنده هزارک اول و آخر هستند.\n",
    "اما در اینجا ما با صدک‌ها سر و کار داریم بنابراین برای هماهنگی با بقیه ستون‌ها این دو ستون را به ترتیب به\n",
    "`P0.1`\n",
    "و\n",
    "`P99.9`\n",
    "تغییر نام دهید."
   ]
  },
  {
   "cell_type": "code",
   "execution_count": 18,
   "metadata": {},
   "outputs": [
    {
     "data": {
      "text/html": [
       "<div>\n",
       "<style scoped>\n",
       "    .dataframe tbody tr th:only-of-type {\n",
       "        vertical-align: middle;\n",
       "    }\n",
       "\n",
       "    .dataframe tbody tr th {\n",
       "        vertical-align: top;\n",
       "    }\n",
       "\n",
       "    .dataframe thead th {\n",
       "        text-align: right;\n",
       "    }\n",
       "</style>\n",
       "<table border=\"1\" class=\"dataframe\">\n",
       "  <thead>\n",
       "    <tr style=\"text-align: right;\">\n",
       "      <th></th>\n",
       "      <th>Day</th>\n",
       "      <th>L</th>\n",
       "      <th>M</th>\n",
       "      <th>S</th>\n",
       "      <th>P0.1</th>\n",
       "      <th>P1</th>\n",
       "      <th>P3</th>\n",
       "      <th>P5</th>\n",
       "      <th>P10</th>\n",
       "      <th>P15</th>\n",
       "      <th>P25</th>\n",
       "      <th>P50</th>\n",
       "      <th>P75</th>\n",
       "      <th>P85</th>\n",
       "      <th>P90</th>\n",
       "      <th>P95</th>\n",
       "      <th>P97</th>\n",
       "      <th>P99</th>\n",
       "      <th>P99.9</th>\n",
       "    </tr>\n",
       "  </thead>\n",
       "  <tbody>\n",
       "    <tr>\n",
       "      <th>0</th>\n",
       "      <td>0</td>\n",
       "      <td>1</td>\n",
       "      <td>49.8842</td>\n",
       "      <td>0.03795</td>\n",
       "      <td>44.034</td>\n",
       "      <td>45.480</td>\n",
       "      <td>46.324</td>\n",
       "      <td>46.770</td>\n",
       "      <td>47.458</td>\n",
       "      <td>47.922</td>\n",
       "      <td>48.607</td>\n",
       "      <td>49.884</td>\n",
       "      <td>51.161</td>\n",
       "      <td>51.846</td>\n",
       "      <td>52.310</td>\n",
       "      <td>52.998</td>\n",
       "      <td>53.445</td>\n",
       "      <td>54.288</td>\n",
       "      <td>55.734</td>\n",
       "    </tr>\n",
       "    <tr>\n",
       "      <th>1</th>\n",
       "      <td>1</td>\n",
       "      <td>1</td>\n",
       "      <td>50.0601</td>\n",
       "      <td>0.03785</td>\n",
       "      <td>44.205</td>\n",
       "      <td>45.652</td>\n",
       "      <td>46.496</td>\n",
       "      <td>46.943</td>\n",
       "      <td>47.632</td>\n",
       "      <td>48.096</td>\n",
       "      <td>48.782</td>\n",
       "      <td>50.060</td>\n",
       "      <td>51.338</td>\n",
       "      <td>52.024</td>\n",
       "      <td>52.488</td>\n",
       "      <td>53.177</td>\n",
       "      <td>53.624</td>\n",
       "      <td>54.468</td>\n",
       "      <td>55.915</td>\n",
       "    </tr>\n",
       "    <tr>\n",
       "      <th>2</th>\n",
       "      <td>2</td>\n",
       "      <td>1</td>\n",
       "      <td>50.2359</td>\n",
       "      <td>0.03775</td>\n",
       "      <td>44.376</td>\n",
       "      <td>45.824</td>\n",
       "      <td>46.669</td>\n",
       "      <td>47.117</td>\n",
       "      <td>47.806</td>\n",
       "      <td>48.270</td>\n",
       "      <td>48.957</td>\n",
       "      <td>50.236</td>\n",
       "      <td>51.515</td>\n",
       "      <td>52.201</td>\n",
       "      <td>52.666</td>\n",
       "      <td>53.355</td>\n",
       "      <td>53.803</td>\n",
       "      <td>54.648</td>\n",
       "      <td>56.096</td>\n",
       "    </tr>\n",
       "    <tr>\n",
       "      <th>3</th>\n",
       "      <td>3</td>\n",
       "      <td>1</td>\n",
       "      <td>50.4118</td>\n",
       "      <td>0.03764</td>\n",
       "      <td>44.548</td>\n",
       "      <td>45.998</td>\n",
       "      <td>46.843</td>\n",
       "      <td>47.291</td>\n",
       "      <td>47.980</td>\n",
       "      <td>48.445</td>\n",
       "      <td>49.132</td>\n",
       "      <td>50.412</td>\n",
       "      <td>51.692</td>\n",
       "      <td>52.378</td>\n",
       "      <td>52.844</td>\n",
       "      <td>53.533</td>\n",
       "      <td>53.981</td>\n",
       "      <td>54.826</td>\n",
       "      <td>56.276</td>\n",
       "    </tr>\n",
       "    <tr>\n",
       "      <th>4</th>\n",
       "      <td>4</td>\n",
       "      <td>1</td>\n",
       "      <td>50.5876</td>\n",
       "      <td>0.03754</td>\n",
       "      <td>44.719</td>\n",
       "      <td>46.170</td>\n",
       "      <td>47.016</td>\n",
       "      <td>47.464</td>\n",
       "      <td>48.154</td>\n",
       "      <td>48.619</td>\n",
       "      <td>49.307</td>\n",
       "      <td>50.588</td>\n",
       "      <td>51.868</td>\n",
       "      <td>52.556</td>\n",
       "      <td>53.021</td>\n",
       "      <td>53.711</td>\n",
       "      <td>54.159</td>\n",
       "      <td>55.005</td>\n",
       "      <td>56.456</td>\n",
       "    </tr>\n",
       "    <tr>\n",
       "      <th>...</th>\n",
       "      <td>...</td>\n",
       "      <td>...</td>\n",
       "      <td>...</td>\n",
       "      <td>...</td>\n",
       "      <td>...</td>\n",
       "      <td>...</td>\n",
       "      <td>...</td>\n",
       "      <td>...</td>\n",
       "      <td>...</td>\n",
       "      <td>...</td>\n",
       "      <td>...</td>\n",
       "      <td>...</td>\n",
       "      <td>...</td>\n",
       "      <td>...</td>\n",
       "      <td>...</td>\n",
       "      <td>...</td>\n",
       "      <td>...</td>\n",
       "      <td>...</td>\n",
       "      <td>...</td>\n",
       "    </tr>\n",
       "    <tr>\n",
       "      <th>1852</th>\n",
       "      <td>1852</td>\n",
       "      <td>1</td>\n",
       "      <td>110.4253</td>\n",
       "      <td>0.04224</td>\n",
       "      <td>96.011</td>\n",
       "      <td>99.574</td>\n",
       "      <td>101.653</td>\n",
       "      <td>102.753</td>\n",
       "      <td>104.448</td>\n",
       "      <td>105.591</td>\n",
       "      <td>107.279</td>\n",
       "      <td>110.425</td>\n",
       "      <td>113.571</td>\n",
       "      <td>115.260</td>\n",
       "      <td>116.403</td>\n",
       "      <td>118.097</td>\n",
       "      <td>119.198</td>\n",
       "      <td>121.276</td>\n",
       "      <td>124.839</td>\n",
       "    </tr>\n",
       "    <tr>\n",
       "      <th>1853</th>\n",
       "      <td>1853</td>\n",
       "      <td>1</td>\n",
       "      <td>110.4432</td>\n",
       "      <td>0.04225</td>\n",
       "      <td>96.023</td>\n",
       "      <td>99.588</td>\n",
       "      <td>101.667</td>\n",
       "      <td>102.768</td>\n",
       "      <td>104.463</td>\n",
       "      <td>105.607</td>\n",
       "      <td>107.296</td>\n",
       "      <td>110.443</td>\n",
       "      <td>113.591</td>\n",
       "      <td>115.279</td>\n",
       "      <td>116.423</td>\n",
       "      <td>118.118</td>\n",
       "      <td>119.219</td>\n",
       "      <td>121.298</td>\n",
       "      <td>124.863</td>\n",
       "    </tr>\n",
       "    <tr>\n",
       "      <th>1854</th>\n",
       "      <td>1854</td>\n",
       "      <td>1</td>\n",
       "      <td>110.4611</td>\n",
       "      <td>0.04225</td>\n",
       "      <td>96.039</td>\n",
       "      <td>99.604</td>\n",
       "      <td>101.683</td>\n",
       "      <td>102.785</td>\n",
       "      <td>104.480</td>\n",
       "      <td>105.624</td>\n",
       "      <td>107.313</td>\n",
       "      <td>110.461</td>\n",
       "      <td>113.609</td>\n",
       "      <td>115.298</td>\n",
       "      <td>116.442</td>\n",
       "      <td>118.138</td>\n",
       "      <td>119.239</td>\n",
       "      <td>121.318</td>\n",
       "      <td>124.883</td>\n",
       "    </tr>\n",
       "    <tr>\n",
       "      <th>1855</th>\n",
       "      <td>1855</td>\n",
       "      <td>1</td>\n",
       "      <td>110.4790</td>\n",
       "      <td>0.04225</td>\n",
       "      <td>96.055</td>\n",
       "      <td>99.620</td>\n",
       "      <td>101.700</td>\n",
       "      <td>102.801</td>\n",
       "      <td>104.497</td>\n",
       "      <td>105.641</td>\n",
       "      <td>107.331</td>\n",
       "      <td>110.479</td>\n",
       "      <td>113.627</td>\n",
       "      <td>115.317</td>\n",
       "      <td>116.461</td>\n",
       "      <td>118.157</td>\n",
       "      <td>119.258</td>\n",
       "      <td>121.338</td>\n",
       "      <td>124.903</td>\n",
       "    </tr>\n",
       "    <tr>\n",
       "      <th>1856</th>\n",
       "      <td>1856</td>\n",
       "      <td>1</td>\n",
       "      <td>110.4969</td>\n",
       "      <td>0.04226</td>\n",
       "      <td>96.067</td>\n",
       "      <td>99.634</td>\n",
       "      <td>101.714</td>\n",
       "      <td>102.816</td>\n",
       "      <td>104.513</td>\n",
       "      <td>105.657</td>\n",
       "      <td>107.347</td>\n",
       "      <td>110.497</td>\n",
       "      <td>113.646</td>\n",
       "      <td>115.337</td>\n",
       "      <td>116.481</td>\n",
       "      <td>118.178</td>\n",
       "      <td>119.279</td>\n",
       "      <td>121.360</td>\n",
       "      <td>124.927</td>\n",
       "    </tr>\n",
       "  </tbody>\n",
       "</table>\n",
       "<p>1857 rows × 19 columns</p>\n",
       "</div>"
      ],
      "text/plain": [
       "       Day  L         M        S    P0.1      P1       P3       P5      P10  \\\n",
       "0        0  1   49.8842  0.03795  44.034  45.480   46.324   46.770   47.458   \n",
       "1        1  1   50.0601  0.03785  44.205  45.652   46.496   46.943   47.632   \n",
       "2        2  1   50.2359  0.03775  44.376  45.824   46.669   47.117   47.806   \n",
       "3        3  1   50.4118  0.03764  44.548  45.998   46.843   47.291   47.980   \n",
       "4        4  1   50.5876  0.03754  44.719  46.170   47.016   47.464   48.154   \n",
       "...    ... ..       ...      ...     ...     ...      ...      ...      ...   \n",
       "1852  1852  1  110.4253  0.04224  96.011  99.574  101.653  102.753  104.448   \n",
       "1853  1853  1  110.4432  0.04225  96.023  99.588  101.667  102.768  104.463   \n",
       "1854  1854  1  110.4611  0.04225  96.039  99.604  101.683  102.785  104.480   \n",
       "1855  1855  1  110.4790  0.04225  96.055  99.620  101.700  102.801  104.497   \n",
       "1856  1856  1  110.4969  0.04226  96.067  99.634  101.714  102.816  104.513   \n",
       "\n",
       "          P15      P25      P50      P75      P85      P90      P95      P97  \\\n",
       "0      47.922   48.607   49.884   51.161   51.846   52.310   52.998   53.445   \n",
       "1      48.096   48.782   50.060   51.338   52.024   52.488   53.177   53.624   \n",
       "2      48.270   48.957   50.236   51.515   52.201   52.666   53.355   53.803   \n",
       "3      48.445   49.132   50.412   51.692   52.378   52.844   53.533   53.981   \n",
       "4      48.619   49.307   50.588   51.868   52.556   53.021   53.711   54.159   \n",
       "...       ...      ...      ...      ...      ...      ...      ...      ...   \n",
       "1852  105.591  107.279  110.425  113.571  115.260  116.403  118.097  119.198   \n",
       "1853  105.607  107.296  110.443  113.591  115.279  116.423  118.118  119.219   \n",
       "1854  105.624  107.313  110.461  113.609  115.298  116.442  118.138  119.239   \n",
       "1855  105.641  107.331  110.479  113.627  115.317  116.461  118.157  119.258   \n",
       "1856  105.657  107.347  110.497  113.646  115.337  116.481  118.178  119.279   \n",
       "\n",
       "          P99    P99.9  \n",
       "0      54.288   55.734  \n",
       "1      54.468   55.915  \n",
       "2      54.648   56.096  \n",
       "3      54.826   56.276  \n",
       "4      55.005   56.456  \n",
       "...       ...      ...  \n",
       "1852  121.276  124.839  \n",
       "1853  121.298  124.863  \n",
       "1854  121.318  124.883  \n",
       "1855  121.338  124.903  \n",
       "1856  121.360  124.927  \n",
       "\n",
       "[1857 rows x 19 columns]"
      ]
     },
     "execution_count": 18,
     "metadata": {},
     "output_type": "execute_result"
    }
   ],
   "source": [
    "boys.rename(columns={'P01':'P0.1','P999':'P99.9'})"
   ]
  },
  {
   "cell_type": "markdown",
   "metadata": {},
   "source": [
    "## تصویرسازی\n",
    "نمودار صدک‌های **قد(به سانتی‌متر)** بر حسب **سن(به سال)** را رسم کنید. نمودار شما باید چیزی شبیه به نمو‌دار زیر شود.\n",
    "- در داده‌ها سن به روز محاسبه شده و باید آن را تبدیل به سال کنید تا مقیاس نمودار صحیح شود.\n",
    "- فقط ستون‌هایی که اسمشان با `P` شروع می‌شود نشان دهنده صدک‌ها هستند.\n",
    "- برای هر کدام از صدک‌ها می‌توانید یک نمودار نقطه‌ای بکشید و رنگش را بر حسب فاصله‌ی آن از میانه تغییر دهید.\n",
    "- به شکل زیر می‌توان از `colormap` های کتابخانه‌ی `matplotlib` برای تولید طیف رنگ مورد نیاز برای نمودار این قسمت استفاده کرد.\n",
    "```python\n",
    "colors = plt.cm.RdYlGn_r(np.abs(np.linspace(-1, 1, 15)))\n",
    "```"
   ]
  },
  {
   "cell_type": "code",
   "execution_count": 39,
   "metadata": {},
   "outputs": [
    {
     "name": "stdout",
     "output_type": "stream",
     "text": [
      "---------------------------------------\n",
      "---------------------------------------\n",
      "---------------------------------------\n",
      "---------------------------------------\n"
     ]
    },
    {
     "data": {
      "image/png": "[encoded data removed]",
      "text/plain": [
       "<Figure size 432x288 with 1 Axes>"
      ]
     },
     "metadata": {
      "needs_background": "light"
     },
     "output_type": "display_data"
    },
    {
     "name": "stdout",
     "output_type": "stream",
     "text": [
      "---------------------------------------\n"
     ]
    },
    {
     "data": {
      "image/png": "[encoded data removed]",
      "text/plain": [
       "<Figure size 432x288 with 1 Axes>"
      ]
     },
     "metadata": {
      "needs_background": "light"
     },
     "output_type": "display_data"
    },
    {
     "name": "stdout",
     "output_type": "stream",
     "text": [
      "---------------------------------------\n"
     ]
    },
    {
     "data": {
      "image/png": "[encoded data removed]",
      "text/plain": [
       "<Figure size 432x288 with 1 Axes>"
      ]
     },
     "metadata": {
      "needs_background": "light"
     },
     "output_type": "display_data"
    },
    {
     "name": "stdout",
     "output_type": "stream",
     "text": [
      "---------------------------------------\n"
     ]
    },
    {
     "data": {
      "image/png": "[encoded data removed]",
      "text/plain": [
       "<Figure size 432x288 with 1 Axes>"
      ]
     },
     "metadata": {
      "needs_background": "light"
     },
     "output_type": "display_data"
    },
    {
     "name": "stdout",
     "output_type": "stream",
     "text": [
      "---------------------------------------\n"
     ]
    },
    {
     "data": {
      "image/png": "[encoded data removed]",
      "text/plain": [
       "<Figure size 432x288 with 1 Axes>"
      ]
     },
     "metadata": {
      "needs_background": "light"
     },
     "output_type": "display_data"
    },
    {
     "name": "stdout",
     "output_type": "stream",
     "text": [
      "---------------------------------------\n"
     ]
    },
    {
     "data": {
      "image/png": "[encoded data removed]",
      "text/plain": [
       "<Figure size 432x288 with 1 Axes>"
      ]
     },
     "metadata": {
      "needs_background": "light"
     },
     "output_type": "display_data"
    },
    {
     "name": "stdout",
     "output_type": "stream",
     "text": [
      "---------------------------------------\n"
     ]
    },
    {
     "data": {
      "image/png": "[encoded data removed]",
      "text/plain": [
       "<Figure size 432x288 with 1 Axes>"
      ]
     },
     "metadata": {
      "needs_background": "light"
     },
     "output_type": "display_data"
    },
    {
     "name": "stdout",
     "output_type": "stream",
     "text": [
      "---------------------------------------\n"
     ]
    },
    {
     "data": {
      "image/png": "[encoded data removed]",
      "text/plain": [
       "<Figure size 432x288 with 1 Axes>"
      ]
     },
     "metadata": {
      "needs_background": "light"
     },
     "output_type": "display_data"
    },
    {
     "name": "stdout",
     "output_type": "stream",
     "text": [
      "---------------------------------------\n"
     ]
    },
    {
     "data": {
      "image/png": "[encoded data removed]",
      "text/plain": [
       "<Figure size 432x288 with 1 Axes>"
      ]
     },
     "metadata": {
      "needs_background": "light"
     },
     "output_type": "display_data"
    },
    {
     "name": "stdout",
     "output_type": "stream",
     "text": [
      "---------------------------------------\n"
     ]
    },
    {
     "data": {
      "image/png": "[encoded data removed]",
      "text/plain": [
       "<Figure size 432x288 with 1 Axes>"
      ]
     },
     "metadata": {
      "needs_background": "light"
     },
     "output_type": "display_data"
    },
    {
     "name": "stdout",
     "output_type": "stream",
     "text": [
      "---------------------------------------\n"
     ]
    },
    {
     "data": {
      "image/png": "[encoded data removed]",
      "text/plain": [
       "<Figure size 432x288 with 1 Axes>"
      ]
     },
     "metadata": {
      "needs_background": "light"
     },
     "output_type": "display_data"
    },
    {
     "name": "stdout",
     "output_type": "stream",
     "text": [
      "---------------------------------------\n"
     ]
    },
    {
     "data": {
      "image/png": "[encoded data removed]",
      "text/plain": [
       "<Figure size 432x288 with 1 Axes>"
      ]
     },
     "metadata": {
      "needs_background": "light"
     },
     "output_type": "display_data"
    },
    {
     "name": "stdout",
     "output_type": "stream",
     "text": [
      "---------------------------------------\n"
     ]
    },
    {
     "data": {
      "image/png": "[encoded data removed]",
      "text/plain": [
       "<Figure size 432x288 with 1 Axes>"
      ]
     },
     "metadata": {
      "needs_background": "light"
     },
     "output_type": "display_data"
    },
    {
     "name": "stdout",
     "output_type": "stream",
     "text": [
      "---------------------------------------\n"
     ]
    },
    {
     "data": {
      "image/png": "[encoded data removed]",
      "text/plain": [
       "<Figure size 432x288 with 1 Axes>"
      ]
     },
     "metadata": {
      "needs_background": "light"
     },
     "output_type": "display_data"
    },
    {
     "name": "stdout",
     "output_type": "stream",
     "text": [
      "---------------------------------------\n"
     ]
    },
    {
     "data": {
      "image/png": "[encoded data removed]",
      "text/plain": [
       "<Figure size 432x288 with 1 Axes>"
      ]
     },
     "metadata": {
      "needs_background": "light"
     },
     "output_type": "display_data"
    },
    {
     "name": "stdout",
     "output_type": "stream",
     "text": [
      "---------------------------------------\n"
     ]
    }
   ],
   "source": [
    "frames=[girls,boys]\n",
    "child=pd.concat(frames)\n",
    "fig = plt.figure()\n",
    "plt.plot(girls['Day'],girls['P1'])\n",
    "colors = plt.cm.RdYlGn_r(np.abs(np.linspace(-1, 1, 15)))\n",
    "for key,value in girls.iteritems():\n",
    "    if key != 'Day' and key !='L' and key!='M' and key!= 'S':\n",
    "        plt.scatter(girls['Day'],girls[key])\n",
    "        plt.show()\n",
    "    print(\"---------------------------------------\")\n",
    "plt.show()"
   ]
  },
  {
   "cell_type": "markdown",
   "metadata": {},
   "source": [
    "تابع `is_normal` را مانند شکل زیر تکمیل کنید تا در صورت طبیعی بودن وضعیت قد یک کودک `True` و در غیر این‌صورت `False` برگرداند.\n",
    "- `boys_df` و `girls_df` داده‌های قرار داده‌شده در کنار سوال هستند. که در ابتدای این نوت‌بوک خواندید.\n",
    "- در صورتی وضعیت قد طبیعی است که بیشتر یا مساوی صدک ۱۵ ام و کمتر از صدک ۸۵ ام باشد.\n",
    "- `gender` مقداری برابر با `male` یا `female` دارد.\n",
    "- پس از تکمیل تابع آن را در فایل `functions.py` ذخیره کنید. می‌توانید این کار را با قرار دادن مجیک `%%writefile functions.py` در خط اول سلول انجام دهید."
   ]
  },
  {
   "cell_type": "code",
   "execution_count": 2,
   "metadata": {},
   "outputs": [],
   "source": [
    "def is_normal(boys_df,girls_df,age_in_days,height_in_cm,gender):\n",
    "    pass"
   ]
  },
  {
   "cell_type": "markdown",
   "metadata": {},
   "source": [
    "برای تست کردن تابع خود می‌توانید خطوط زیر را اجرا کنید."
   ]
  },
  {
   "cell_type": "code",
   "execution_count": 82,
   "metadata": {},
   "outputs": [],
   "source": [
    "assert is_normal(boys_df,girls_df,1500,108.442,'male')"
   ]
  },
  {
   "cell_type": "code",
   "execution_count": 83,
   "metadata": {},
   "outputs": [],
   "source": [
    "assert is_normal(boys_df,girls_df,1500,108.443,'male') == False"
   ]
  },
  {
   "cell_type": "code",
   "execution_count": null,
   "metadata": {},
   "outputs": [],
   "source": []
  },
  {
   "cell_type": "code",
   "execution_count": null,
   "metadata": {},
   "outputs": [],
   "source": []
  }
 ],
 "metadata": {
  "kernelspec": {
   "display_name": "Python 3",
   "language": "python",
   "name": "python3"
  },
  "language_info": {
   "codemirror_mode": {
    "name": "ipython",
    "version": 3
   },
   "file_extension": ".py",
   "mimetype": "text/x-python",
   "name": "python",
   "nbconvert_exporter": "python",
   "pygments_lexer": "ipython3",
   "version": "3.7.4"
  }
 },
 "nbformat": 4,
 "nbformat_minor": 4
}
