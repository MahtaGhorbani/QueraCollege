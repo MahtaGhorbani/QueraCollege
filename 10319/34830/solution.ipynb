{
 "cells": [
  {
   "cell_type": "markdown",
   "metadata": {},
   "source": [
    "## اضافه کردن کتابخانه‌های مورد نیاز"
   ]
  },
  {
   "cell_type": "code",
   "execution_count": 91,
   "metadata": {},
   "outputs": [],
   "source": [
    "import pandas as pd\n",
    "import numpy as np\n",
    "import matplotlib.pyplot as plt\n",
    "import math"
   ]
  },
  {
   "cell_type": "code",
   "execution_count": null,
   "metadata": {},
   "outputs": [],
   "source": []
  },
  {
   "cell_type": "markdown",
   "metadata": {},
   "source": [
    "## خواندن داده\n",
    "می‌توانید صدک‌های ۱ تا ۹۹ را برای سال‌هایی بین 1963 تا 2016 ببینید. "
   ]
  },
  {
   "cell_type": "code",
   "execution_count": 2,
   "metadata": {},
   "outputs": [],
   "source": [
    "wealth_df = pd.read_csv('WealthDistribution.csv',index_col='year').T"
   ]
  },
  {
   "cell_type": "code",
   "execution_count": 3,
   "metadata": {},
   "outputs": [
    {
     "data": {
      "text/html": [
       "<div>\n",
       "<style scoped>\n",
       "    .dataframe tbody tr th:only-of-type {\n",
       "        vertical-align: middle;\n",
       "    }\n",
       "\n",
       "    .dataframe tbody tr th {\n",
       "        vertical-align: top;\n",
       "    }\n",
       "\n",
       "    .dataframe thead th {\n",
       "        text-align: right;\n",
       "    }\n",
       "</style>\n",
       "<table border=\"1\" class=\"dataframe\">\n",
       "  <thead>\n",
       "    <tr style=\"text-align: right;\">\n",
       "      <th>year</th>\n",
       "      <th>1</th>\n",
       "      <th>2</th>\n",
       "      <th>3</th>\n",
       "      <th>4</th>\n",
       "      <th>5</th>\n",
       "      <th>6</th>\n",
       "      <th>7</th>\n",
       "      <th>8</th>\n",
       "      <th>9</th>\n",
       "      <th>10</th>\n",
       "      <th>...</th>\n",
       "      <th>91</th>\n",
       "      <th>92</th>\n",
       "      <th>93</th>\n",
       "      <th>94</th>\n",
       "      <th>95</th>\n",
       "      <th>96</th>\n",
       "      <th>97</th>\n",
       "      <th>98</th>\n",
       "      <th>99</th>\n",
       "      <th>100</th>\n",
       "    </tr>\n",
       "  </thead>\n",
       "  <tbody>\n",
       "    <tr>\n",
       "      <th>1963</th>\n",
       "      <td>-6405</td>\n",
       "      <td>-4430</td>\n",
       "      <td>-3458</td>\n",
       "      <td>-2689</td>\n",
       "      <td>-2080</td>\n",
       "      <td>-1514</td>\n",
       "      <td>-1003</td>\n",
       "      <td>-548</td>\n",
       "      <td>-295</td>\n",
       "      <td>-18</td>\n",
       "      <td>...</td>\n",
       "      <td>258679</td>\n",
       "      <td>281660</td>\n",
       "      <td>313318</td>\n",
       "      <td>349030</td>\n",
       "      <td>409182</td>\n",
       "      <td>466768</td>\n",
       "      <td>600177</td>\n",
       "      <td>758199</td>\n",
       "      <td>1457201</td>\n",
       "      <td>1599801</td>\n",
       "    </tr>\n",
       "    <tr>\n",
       "      <th>1983</th>\n",
       "      <td>-7939</td>\n",
       "      <td>-3542</td>\n",
       "      <td>-1932</td>\n",
       "      <td>-727</td>\n",
       "      <td>-85</td>\n",
       "      <td>0</td>\n",
       "      <td>0</td>\n",
       "      <td>0</td>\n",
       "      <td>302</td>\n",
       "      <td>724</td>\n",
       "      <td>...</td>\n",
       "      <td>575612</td>\n",
       "      <td>642318</td>\n",
       "      <td>714154</td>\n",
       "      <td>828443</td>\n",
       "      <td>959196</td>\n",
       "      <td>1146953</td>\n",
       "      <td>1450927</td>\n",
       "      <td>1972661</td>\n",
       "      <td>3323063</td>\n",
       "      <td>4000213</td>\n",
       "    </tr>\n",
       "    <tr>\n",
       "      <th>1989</th>\n",
       "      <td>-15151</td>\n",
       "      <td>-8975</td>\n",
       "      <td>-6437</td>\n",
       "      <td>-3526</td>\n",
       "      <td>-1586</td>\n",
       "      <td>-933</td>\n",
       "      <td>-224</td>\n",
       "      <td>0</td>\n",
       "      <td>0</td>\n",
       "      <td>0</td>\n",
       "      <td>...</td>\n",
       "      <td>743433</td>\n",
       "      <td>837491</td>\n",
       "      <td>937128</td>\n",
       "      <td>1057943</td>\n",
       "      <td>1293713</td>\n",
       "      <td>1563087</td>\n",
       "      <td>1907823</td>\n",
       "      <td>2516019</td>\n",
       "      <td>4330717</td>\n",
       "      <td>4834087</td>\n",
       "    </tr>\n",
       "    <tr>\n",
       "      <th>1992</th>\n",
       "      <td>-18951</td>\n",
       "      <td>-10985</td>\n",
       "      <td>-5954</td>\n",
       "      <td>-3807</td>\n",
       "      <td>-1895</td>\n",
       "      <td>-839</td>\n",
       "      <td>-84</td>\n",
       "      <td>0</td>\n",
       "      <td>0</td>\n",
       "      <td>0</td>\n",
       "      <td>...</td>\n",
       "      <td>650870</td>\n",
       "      <td>707220</td>\n",
       "      <td>808381</td>\n",
       "      <td>934681</td>\n",
       "      <td>1120282</td>\n",
       "      <td>1289766</td>\n",
       "      <td>1714132</td>\n",
       "      <td>2355443</td>\n",
       "      <td>3893734</td>\n",
       "      <td>4590321</td>\n",
       "    </tr>\n",
       "    <tr>\n",
       "      <th>1995</th>\n",
       "      <td>-19967</td>\n",
       "      <td>-11322</td>\n",
       "      <td>-7360</td>\n",
       "      <td>-4213</td>\n",
       "      <td>-2349</td>\n",
       "      <td>-940</td>\n",
       "      <td>-16</td>\n",
       "      <td>0</td>\n",
       "      <td>0</td>\n",
       "      <td>94</td>\n",
       "      <td>...</td>\n",
       "      <td>654746</td>\n",
       "      <td>742678</td>\n",
       "      <td>813696</td>\n",
       "      <td>923943</td>\n",
       "      <td>1071773</td>\n",
       "      <td>1241059</td>\n",
       "      <td>1573678</td>\n",
       "      <td>2068379</td>\n",
       "      <td>3851431</td>\n",
       "      <td>4490021</td>\n",
       "    </tr>\n",
       "    <tr>\n",
       "      <th>1998</th>\n",
       "      <td>-33773</td>\n",
       "      <td>-20804</td>\n",
       "      <td>-12617</td>\n",
       "      <td>-8440</td>\n",
       "      <td>-4426</td>\n",
       "      <td>-2375</td>\n",
       "      <td>-885</td>\n",
       "      <td>0</td>\n",
       "      <td>0</td>\n",
       "      <td>0</td>\n",
       "      <td>...</td>\n",
       "      <td>797337</td>\n",
       "      <td>865356</td>\n",
       "      <td>974392</td>\n",
       "      <td>1111757</td>\n",
       "      <td>1329092</td>\n",
       "      <td>1590543</td>\n",
       "      <td>1966490</td>\n",
       "      <td>2971055</td>\n",
       "      <td>5609395</td>\n",
       "      <td>5800321</td>\n",
       "    </tr>\n",
       "    <tr>\n",
       "      <th>2001</th>\n",
       "      <td>-29129</td>\n",
       "      <td>-16041</td>\n",
       "      <td>-9010</td>\n",
       "      <td>-4918</td>\n",
       "      <td>-2100</td>\n",
       "      <td>-677</td>\n",
       "      <td>0</td>\n",
       "      <td>0</td>\n",
       "      <td>0</td>\n",
       "      <td>135</td>\n",
       "      <td>...</td>\n",
       "      <td>1112319</td>\n",
       "      <td>1217740</td>\n",
       "      <td>1357290</td>\n",
       "      <td>1525752</td>\n",
       "      <td>1784068</td>\n",
       "      <td>2094058</td>\n",
       "      <td>2788419</td>\n",
       "      <td>4362268</td>\n",
       "      <td>7946202</td>\n",
       "      <td>8132983</td>\n",
       "    </tr>\n",
       "    <tr>\n",
       "      <th>2004</th>\n",
       "      <td>-32787</td>\n",
       "      <td>-17423</td>\n",
       "      <td>-11065</td>\n",
       "      <td>-6969</td>\n",
       "      <td>-3459</td>\n",
       "      <td>-1488</td>\n",
       "      <td>-216</td>\n",
       "      <td>0</td>\n",
       "      <td>1</td>\n",
       "      <td>254</td>\n",
       "      <td>...</td>\n",
       "      <td>1178878</td>\n",
       "      <td>1281956</td>\n",
       "      <td>1413306</td>\n",
       "      <td>1569226</td>\n",
       "      <td>1818012</td>\n",
       "      <td>2267587</td>\n",
       "      <td>2794360</td>\n",
       "      <td>4207818</td>\n",
       "      <td>8083447</td>\n",
       "      <td>8093976</td>\n",
       "    </tr>\n",
       "    <tr>\n",
       "      <th>2007</th>\n",
       "      <td>-36200</td>\n",
       "      <td>-21771</td>\n",
       "      <td>-12437</td>\n",
       "      <td>-8222</td>\n",
       "      <td>-5327</td>\n",
       "      <td>-2281</td>\n",
       "      <td>-892</td>\n",
       "      <td>0</td>\n",
       "      <td>0</td>\n",
       "      <td>35</td>\n",
       "      <td>...</td>\n",
       "      <td>1158941</td>\n",
       "      <td>1275647</td>\n",
       "      <td>1393208</td>\n",
       "      <td>1732275</td>\n",
       "      <td>2200426</td>\n",
       "      <td>2762677</td>\n",
       "      <td>3687120</td>\n",
       "      <td>5371453</td>\n",
       "      <td>9697843</td>\n",
       "      <td>9920123</td>\n",
       "    </tr>\n",
       "    <tr>\n",
       "      <th>2010</th>\n",
       "      <td>-88315</td>\n",
       "      <td>-56902</td>\n",
       "      <td>-37913</td>\n",
       "      <td>-26959</td>\n",
       "      <td>-17022</td>\n",
       "      <td>-11882</td>\n",
       "      <td>-7936</td>\n",
       "      <td>-4974</td>\n",
       "      <td>-2885</td>\n",
       "      <td>-1105</td>\n",
       "      <td>...</td>\n",
       "      <td>1176844</td>\n",
       "      <td>1325510</td>\n",
       "      <td>1544222</td>\n",
       "      <td>1818487</td>\n",
       "      <td>2060112</td>\n",
       "      <td>2428628</td>\n",
       "      <td>3147424</td>\n",
       "      <td>4725281</td>\n",
       "      <td>7534142</td>\n",
       "      <td>8012367</td>\n",
       "    </tr>\n",
       "    <tr>\n",
       "      <th>2013</th>\n",
       "      <td>-81354</td>\n",
       "      <td>-54339</td>\n",
       "      <td>-38615</td>\n",
       "      <td>-25778</td>\n",
       "      <td>-19127</td>\n",
       "      <td>-13465</td>\n",
       "      <td>-9331</td>\n",
       "      <td>-6290</td>\n",
       "      <td>-3908</td>\n",
       "      <td>-2114</td>\n",
       "      <td>...</td>\n",
       "      <td>1059666</td>\n",
       "      <td>1177625</td>\n",
       "      <td>1362120</td>\n",
       "      <td>1585323</td>\n",
       "      <td>1929816</td>\n",
       "      <td>2405155</td>\n",
       "      <td>3178999</td>\n",
       "      <td>4516239</td>\n",
       "      <td>8125517</td>\n",
       "      <td>9012323</td>\n",
       "    </tr>\n",
       "    <tr>\n",
       "      <th>2016</th>\n",
       "      <td>-80620</td>\n",
       "      <td>-50920</td>\n",
       "      <td>-34580</td>\n",
       "      <td>-25749</td>\n",
       "      <td>-17300</td>\n",
       "      <td>-11710</td>\n",
       "      <td>-7998</td>\n",
       "      <td>-5170</td>\n",
       "      <td>-2818</td>\n",
       "      <td>-950</td>\n",
       "      <td>...</td>\n",
       "      <td>1317500</td>\n",
       "      <td>1445700</td>\n",
       "      <td>1686700</td>\n",
       "      <td>2044300</td>\n",
       "      <td>2387250</td>\n",
       "      <td>2838000</td>\n",
       "      <td>3693600</td>\n",
       "      <td>5793500</td>\n",
       "      <td>10400000</td>\n",
       "      <td>10503200</td>\n",
       "    </tr>\n",
       "  </tbody>\n",
       "</table>\n",
       "<p>12 rows × 100 columns</p>\n",
       "</div>"
      ],
      "text/plain": [
       "year    1      2      3      4      5      6     7     8     9     10   ...  \\\n",
       "1963  -6405  -4430  -3458  -2689  -2080  -1514 -1003  -548  -295   -18  ...   \n",
       "1983  -7939  -3542  -1932   -727    -85      0     0     0   302   724  ...   \n",
       "1989 -15151  -8975  -6437  -3526  -1586   -933  -224     0     0     0  ...   \n",
       "1992 -18951 -10985  -5954  -3807  -1895   -839   -84     0     0     0  ...   \n",
       "1995 -19967 -11322  -7360  -4213  -2349   -940   -16     0     0    94  ...   \n",
       "1998 -33773 -20804 -12617  -8440  -4426  -2375  -885     0     0     0  ...   \n",
       "2001 -29129 -16041  -9010  -4918  -2100   -677     0     0     0   135  ...   \n",
       "2004 -32787 -17423 -11065  -6969  -3459  -1488  -216     0     1   254  ...   \n",
       "2007 -36200 -21771 -12437  -8222  -5327  -2281  -892     0     0    35  ...   \n",
       "2010 -88315 -56902 -37913 -26959 -17022 -11882 -7936 -4974 -2885 -1105  ...   \n",
       "2013 -81354 -54339 -38615 -25778 -19127 -13465 -9331 -6290 -3908 -2114  ...   \n",
       "2016 -80620 -50920 -34580 -25749 -17300 -11710 -7998 -5170 -2818  -950  ...   \n",
       "\n",
       "year      91       92       93       94       95       96       97       98   \\\n",
       "1963   258679   281660   313318   349030   409182   466768   600177   758199   \n",
       "1983   575612   642318   714154   828443   959196  1146953  1450927  1972661   \n",
       "1989   743433   837491   937128  1057943  1293713  1563087  1907823  2516019   \n",
       "1992   650870   707220   808381   934681  1120282  1289766  1714132  2355443   \n",
       "1995   654746   742678   813696   923943  1071773  1241059  1573678  2068379   \n",
       "1998   797337   865356   974392  1111757  1329092  1590543  1966490  2971055   \n",
       "2001  1112319  1217740  1357290  1525752  1784068  2094058  2788419  4362268   \n",
       "2004  1178878  1281956  1413306  1569226  1818012  2267587  2794360  4207818   \n",
       "2007  1158941  1275647  1393208  1732275  2200426  2762677  3687120  5371453   \n",
       "2010  1176844  1325510  1544222  1818487  2060112  2428628  3147424  4725281   \n",
       "2013  1059666  1177625  1362120  1585323  1929816  2405155  3178999  4516239   \n",
       "2016  1317500  1445700  1686700  2044300  2387250  2838000  3693600  5793500   \n",
       "\n",
       "year       99        100  \n",
       "1963   1457201   1599801  \n",
       "1983   3323063   4000213  \n",
       "1989   4330717   4834087  \n",
       "1992   3893734   4590321  \n",
       "1995   3851431   4490021  \n",
       "1998   5609395   5800321  \n",
       "2001   7946202   8132983  \n",
       "2004   8083447   8093976  \n",
       "2007   9697843   9920123  \n",
       "2010   7534142   8012367  \n",
       "2013   8125517   9012323  \n",
       "2016  10400000  10503200  \n",
       "\n",
       "[12 rows x 100 columns]"
      ]
     },
     "execution_count": 3,
     "metadata": {},
     "output_type": "execute_result"
    }
   ],
   "source": [
    "wealth_df"
   ]
  },
  {
   "cell_type": "markdown",
   "metadata": {},
   "source": [
    "## نمودار توزیع\n",
    "ابتدا نمودار توزیع ثروت در سالهای مختلف را رسم می‌کنیم."
   ]
  },
  {
   "cell_type": "code",
   "execution_count": 4,
   "metadata": {},
   "outputs": [
    {
     "data": {
      "text/plain": [
       "Text(0, 0.5, 'Wealth dollars')"
      ]
     },
     "execution_count": 4,
     "metadata": {},
     "output_type": "execute_result"
    },
    {
     "data": {
      "image/png": "[encoded data removed]",
      "text/plain": [
       "<Figure size 1000x1000 with 1 Axes>"
      ]
     },
     "metadata": {
      "needs_background": "light"
     },
     "output_type": "display_data"
    }
   ],
   "source": [
    "plt.figure(dpi=100,figsize=(10,10))\n",
    "for index , row in wealth_df.iterrows():\n",
    "    plt.plot(row[:-4].index,row[:-4].values,label=index)\n",
    "plt.legend()\n",
    "plt.title('Distribution of American Family Wealth By Year')\n",
    "plt.xlabel('Percentile')\n",
    "plt.ylabel('Wealth dollars')"
   ]
  },
  {
   "cell_type": "code",
   "execution_count": null,
   "metadata": {},
   "outputs": [],
   "source": []
  },
  {
   "cell_type": "markdown",
   "metadata": {},
   "source": [
    "### محاسبه میانگین\n",
    "تابع زیر را طوری تکمیل کنید که با اعمال آن روی هر ردیف از داده‌های بالا، میانگین تخمینی را از روی صدک‌ها محاسبه کنید."
   ]
  },
  {
   "cell_type": "code",
   "execution_count": 53,
   "metadata": {},
   "outputs": [],
   "source": [
    "def calculate_mean(row):\n",
    "    sum=0\n",
    "    for item in row[:-4]:\n",
    "        sum += item/100\n",
    "    return sum"
   ]
  },
  {
   "cell_type": "code",
   "execution_count": 54,
   "metadata": {},
   "outputs": [],
   "source": [
    "wealth_df[\"mean\"] = wealth_df.apply(calculate_mean,axis=1)\n"
   ]
  },
  {
   "cell_type": "markdown",
   "metadata": {},
   "source": [
    "### محاسبه انحراف معیار\n",
    "تابع زیر را طوری تکمیل کنید که با اعمال آن روی هر ردیف از داده‌های بالا، واریانس و سپس انحراف معیار تخمینی را از روی صدک‌ها محاسبه کنید."
   ]
  },
  {
   "cell_type": "code",
   "execution_count": 152,
   "metadata": {},
   "outputs": [],
   "source": [
    "def calculate_sigma(row):\n",
    "    sum =0 \n",
    "    mean = calculate_mean(row)\n",
    "    for item in row[:-4]:\n",
    "        sum += ((item-mean)**2)/100\n",
    "    sigma = math.sqrt(sum)\n",
    "    return sigma\n",
    "        "
   ]
  },
  {
   "cell_type": "code",
   "execution_count": 153,
   "metadata": {},
   "outputs": [],
   "source": [
    "wealth_df['sigma'] = wealth_df.apply(calculate_sigma,axis=1)"
   ]
  },
  {
   "cell_type": "markdown",
   "metadata": {},
   "source": [
    "### محاسبه $\\mu_3$\n",
    "چون برای محاسبه شاخص چولگی پیرسون نیاز به محاسبه\n",
    "$\\mu_3$ \n",
    "داریم، \n",
    "مانند قسمت‌های قبل تابع زیر را طوری تکمیل کنید تا آن را از طریق فرمول زیر محاسبه کند.\n",
    "$$\n",
    "\\mu_3 = \\mathbb{E}[(X-\\mu)^3]\n",
    "$$"
   ]
  },
  {
   "cell_type": "code",
   "execution_count": 176,
   "metadata": {},
   "outputs": [],
   "source": [
    "def calculate_mu3(row):\n",
    "    mu = calculate_mean(row)\n",
    "    print(mu)\n",
    "    sum =0 \n",
    "    for item in row[:-4]:\n",
    "        sum += ((item-mu)**3)/100\n",
    "    mu3 = sum\n",
    "    return mu3"
   ]
  },
  {
   "cell_type": "code",
   "execution_count": 177,
   "metadata": {},
   "outputs": [
    {
     "name": "stdout",
     "output_type": "stream",
     "text": [
      "112722.54999999999\n",
      "255399.02000000002\n",
      "320275.1\n",
      "287795.14999999997\n",
      "284937.86000000004\n",
      "365908.21\n",
      "492574.89999999997\n",
      "507774.7100000001\n",
      "582394.6900000001\n",
      "484383.11\n",
      "485988.88\n",
      "586413.12\n"
     ]
    }
   ],
   "source": [
    "wealth_df['mu3'] = wealth_df.apply(calculate_mu3,axis=1)"
   ]
  },
  {
   "cell_type": "markdown",
   "metadata": {},
   "source": [
    "### ضریب چولگی پیرسون\n",
    "حال می‌توانیم به راحتی شاخص چولگی پیرسون را با استفاده از $\\sigma$ و $\\mu_3$ .حساب کنیم\n",
    "$$\n",
    "\\gamma_1 = \\frac{\\mu_3}{\\sigma^3}\n",
    "$$"
   ]
  },
  {
   "cell_type": "code",
   "execution_count": 126,
   "metadata": {},
   "outputs": [],
   "source": [
    "wealth_df['skewness'] = wealth_df['mu3'] / (wealth_df['sigma']**3)"
   ]
  },
  {
   "cell_type": "markdown",
   "metadata": {},
   "source": [
    "### نمودار چولگی\n",
    ".حالا چولگی نمودار را طبق دو شاخص مختلف در سال‌های متفاوت با هم مقایسه می‌کنیم\n"
   ]
  },
  {
   "cell_type": "code",
   "execution_count": 127,
   "metadata": {},
   "outputs": [
    {
     "data": {
      "text/plain": [
       "Text(0.5, 1.0, \"Pearson's moment coefficient of skewness\")"
      ]
     },
     "execution_count": 127,
     "metadata": {},
     "output_type": "execute_result"
    },
    {
     "data": {
      "image/png": "[encoded data removed]",
      "text/plain": [
       "<Figure size 432x288 with 1 Axes>"
      ]
     },
     "metadata": {
      "needs_background": "light"
     },
     "output_type": "display_data"
    }
   ],
   "source": [
    "plt.plot(wealth_df['skewness'])\n",
    "plt.title(\"Pearson's moment coefficient of skewness\")"
   ]
  },
  {
   "cell_type": "code",
   "execution_count": 128,
   "metadata": {},
   "outputs": [
    {
     "data": {
      "text/plain": [
       "Text(0.5, 1.0, 'mean - median')"
      ]
     },
     "execution_count": 128,
     "metadata": {},
     "output_type": "execute_result"
    },
    {
     "data": {
      "image/png": "[encoded data removed]",
      "text/plain": [
       "<Figure size 432x288 with 1 Axes>"
      ]
     },
     "metadata": {
      "needs_background": "light"
     },
     "output_type": "display_data"
    }
   ],
   "source": [
    "plt.plot((wealth_df['mean'] - wealth_df[50]))\n",
    "plt.title(\"mean - median\")"
   ]
  },
  {
   "cell_type": "markdown",
   "metadata": {},
   "source": [
    "حال ستون‌های \n",
    "`mean`, `sigma`, `mu3`,`skewness`\n",
    "را برای سالهای موجود در داده به شکل مثال زیر در فایل `result.csv` ذخیره کنید."
   ]
  },
  {
   "cell_type": "code",
   "execution_count": 99,
   "metadata": {},
   "outputs": [
    {
     "data": {
      "text/html": [
       "<div>\n",
       "<style scoped>\n",
       "    .dataframe tbody tr th:only-of-type {\n",
       "        vertical-align: middle;\n",
       "    }\n",
       "\n",
       "    .dataframe tbody tr th {\n",
       "        vertical-align: top;\n",
       "    }\n",
       "\n",
       "    .dataframe thead th {\n",
       "        text-align: right;\n",
       "    }\n",
       "</style>\n",
       "<table border=\"1\" class=\"dataframe\">\n",
       "  <thead>\n",
       "    <tr style=\"text-align: right;\">\n",
       "      <th></th>\n",
       "      <th>mean</th>\n",
       "      <th>sigma</th>\n",
       "      <th>mu3</th>\n",
       "      <th>skewness</th>\n",
       "    </tr>\n",
       "  </thead>\n",
       "  <tbody>\n",
       "    <tr>\n",
       "      <th>1963</th>\n",
       "      <td>112722.55</td>\n",
       "      <td>238287.914685</td>\n",
       "      <td>6.150000e+16</td>\n",
       "      <td>4.545240</td>\n",
       "    </tr>\n",
       "    <tr>\n",
       "      <th>1983</th>\n",
       "      <td>255399.02</td>\n",
       "      <td>576079.070451</td>\n",
       "      <td>8.890000e+17</td>\n",
       "      <td>4.652163</td>\n",
       "    </tr>\n",
       "  </tbody>\n",
       "</table>\n",
       "</div>"
      ],
      "text/plain": [
       "           mean          sigma           mu3  skewness\n",
       "1963  112722.55  238287.914685  6.150000e+16  4.545240\n",
       "1983  255399.02  576079.070451  8.890000e+17  4.652163"
      ]
     },
     "execution_count": 99,
     "metadata": {},
     "output_type": "execute_result"
    }
   ],
   "source": [
    "#sample\n",
    "pd.DataFrame.from_dict({'mean': {'1963': 112722.55, '1983': 255399.02},\n",
    " 'sigma': {'1963': 238287.914685003, '1983': 576079.070450784},\n",
    " 'mu3': {'1963': 6.15E+16, '1983': 8.89E+17},\n",
    " 'skewness': {'1963': 4.54523965, '1983': 4.65216279}}\n",
    ")"
   ]
  },
  {
   "cell_type": "code",
   "execution_count": 161,
   "metadata": {},
   "outputs": [],
   "source": [
    "wealth_df[['mean','sigma','mu3','skewness']].to_csv('result.csv',index_label='year')"
   ]
  },
  {
   "cell_type": "markdown",
   "metadata": {},
   "source": [
    "نوت‌بوک را ذخیره و\n",
    "**ارسال پاسخ**\n",
    "را انتخاب کنید."
   ]
  },
  {
   "cell_type": "code",
   "execution_count": 156,
   "metadata": {},
   "outputs": [
    {
     "data": {
      "text/html": [
       "<div>\n",
       "<style scoped>\n",
       "    .dataframe tbody tr th:only-of-type {\n",
       "        vertical-align: middle;\n",
       "    }\n",
       "\n",
       "    .dataframe tbody tr th {\n",
       "        vertical-align: top;\n",
       "    }\n",
       "\n",
       "    .dataframe thead th {\n",
       "        text-align: right;\n",
       "    }\n",
       "</style>\n",
       "<table border=\"1\" class=\"dataframe\">\n",
       "  <thead>\n",
       "    <tr style=\"text-align: right;\">\n",
       "      <th>year</th>\n",
       "      <th>mean</th>\n",
       "      <th>sigma</th>\n",
       "      <th>mu3</th>\n",
       "      <th>skewness</th>\n",
       "    </tr>\n",
       "  </thead>\n",
       "  <tbody>\n",
       "    <tr>\n",
       "      <th>1963</th>\n",
       "      <td>112722.55</td>\n",
       "      <td>2.382879e+05</td>\n",
       "      <td>6.149826e+16</td>\n",
       "      <td>0.454524</td>\n",
       "    </tr>\n",
       "    <tr>\n",
       "      <th>1983</th>\n",
       "      <td>255399.02</td>\n",
       "      <td>5.760791e+05</td>\n",
       "      <td>8.894083e+17</td>\n",
       "      <td>0.465216</td>\n",
       "    </tr>\n",
       "    <tr>\n",
       "      <th>1989</th>\n",
       "      <td>320275.10</td>\n",
       "      <td>7.292202e+05</td>\n",
       "      <td>1.734003e+18</td>\n",
       "      <td>0.447171</td>\n",
       "    </tr>\n",
       "    <tr>\n",
       "      <th>1992</th>\n",
       "      <td>287795.15</td>\n",
       "      <td>6.695417e+05</td>\n",
       "      <td>1.394158e+18</td>\n",
       "      <td>0.464493</td>\n",
       "    </tr>\n",
       "    <tr>\n",
       "      <th>1995</th>\n",
       "      <td>284937.86</td>\n",
       "      <td>6.478374e+05</td>\n",
       "      <td>1.285567e+18</td>\n",
       "      <td>0.472821</td>\n",
       "    </tr>\n",
       "    <tr>\n",
       "      <th>1998</th>\n",
       "      <td>365908.21</td>\n",
       "      <td>8.787688e+05</td>\n",
       "      <td>3.279718e+18</td>\n",
       "      <td>0.483295</td>\n",
       "    </tr>\n",
       "    <tr>\n",
       "      <th>2001</th>\n",
       "      <td>492574.90</td>\n",
       "      <td>1.242595e+06</td>\n",
       "      <td>9.335421e+18</td>\n",
       "      <td>0.486569</td>\n",
       "    </tr>\n",
       "    <tr>\n",
       "      <th>2004</th>\n",
       "      <td>507774.71</td>\n",
       "      <td>1.249293e+06</td>\n",
       "      <td>9.387218e+18</td>\n",
       "      <td>0.481442</td>\n",
       "    </tr>\n",
       "    <tr>\n",
       "      <th>2007</th>\n",
       "      <td>582394.69</td>\n",
       "      <td>1.521162e+06</td>\n",
       "      <td>1.719509e+19</td>\n",
       "      <td>0.488515</td>\n",
       "    </tr>\n",
       "    <tr>\n",
       "      <th>2010</th>\n",
       "      <td>484383.11</td>\n",
       "      <td>1.248762e+06</td>\n",
       "      <td>8.822985e+18</td>\n",
       "      <td>0.453082</td>\n",
       "    </tr>\n",
       "    <tr>\n",
       "      <th>2013</th>\n",
       "      <td>485988.88</td>\n",
       "      <td>1.331405e+06</td>\n",
       "      <td>1.157474e+19</td>\n",
       "      <td>0.490434</td>\n",
       "    </tr>\n",
       "    <tr>\n",
       "      <th>2016</th>\n",
       "      <td>586413.12</td>\n",
       "      <td>1.628495e+06</td>\n",
       "      <td>2.103948e+19</td>\n",
       "      <td>0.487164</td>\n",
       "    </tr>\n",
       "  </tbody>\n",
       "</table>\n",
       "</div>"
      ],
      "text/plain": [
       "year       mean         sigma           mu3  skewness\n",
       "1963  112722.55  2.382879e+05  6.149826e+16  0.454524\n",
       "1983  255399.02  5.760791e+05  8.894083e+17  0.465216\n",
       "1989  320275.10  7.292202e+05  1.734003e+18  0.447171\n",
       "1992  287795.15  6.695417e+05  1.394158e+18  0.464493\n",
       "1995  284937.86  6.478374e+05  1.285567e+18  0.472821\n",
       "1998  365908.21  8.787688e+05  3.279718e+18  0.483295\n",
       "2001  492574.90  1.242595e+06  9.335421e+18  0.486569\n",
       "2004  507774.71  1.249293e+06  9.387218e+18  0.481442\n",
       "2007  582394.69  1.521162e+06  1.719509e+19  0.488515\n",
       "2010  484383.11  1.248762e+06  8.822985e+18  0.453082\n",
       "2013  485988.88  1.331405e+06  1.157474e+19  0.490434\n",
       "2016  586413.12  1.628495e+06  2.103948e+19  0.487164"
      ]
     },
     "execution_count": 156,
     "metadata": {},
     "output_type": "execute_result"
    }
   ],
   "source": [
    "wealth_df[['mean','sigma','mu3','skewness']]"
   ]
  },
  {
   "cell_type": "code",
   "execution_count": null,
   "metadata": {},
   "outputs": [],
   "source": []
  }
 ],
 "metadata": {
  "kernelspec": {
   "display_name": "Python 3",
   "language": "python",
   "name": "python3"
  },
  "language_info": {
   "codemirror_mode": {
    "name": "ipython",
    "version": 3
   },
   "file_extension": ".py",
   "mimetype": "text/x-python",
   "name": "python",
   "nbconvert_exporter": "python",
   "pygments_lexer": "ipython3",
   "version": "3.7.4"
  },
  "pycharm": {
   "stem_cell": {
    "cell_type": "raw",
    "metadata": {
     "collapsed": false
    },
    "source": []
   }
  }
 },
 "nbformat": 4,
 "nbformat_minor": 4
}
