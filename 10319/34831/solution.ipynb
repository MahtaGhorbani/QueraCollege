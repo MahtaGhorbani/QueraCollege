{
 "cells": [
  {
   "cell_type": "markdown",
   "metadata": {},
   "source": [
    "## اضافه کردن کتابخانه‌های مورد نیاز"
   ]
  },
  {
   "cell_type": "code",
   "execution_count": 1,
   "metadata": {},
   "outputs": [],
   "source": [
    "import matplotlib.pyplot as plt\n",
    "import pandas as pd\n",
    "import statsmodels.api as sm"
   ]
  },
  {
   "cell_type": "code",
   "execution_count": null,
   "metadata": {},
   "outputs": [],
   "source": []
  },
  {
   "cell_type": "markdown",
   "metadata": {},
   "source": [
    "## خواندن داده"
   ]
  },
  {
   "cell_type": "code",
   "execution_count": 2,
   "metadata": {},
   "outputs": [],
   "source": [
    "df_titanic = pd.read_csv('titanic.csv')"
   ]
  },
  {
   "cell_type": "code",
   "execution_count": null,
   "metadata": {},
   "outputs": [],
   "source": []
  },
  {
   "cell_type": "markdown",
   "metadata": {},
   "source": [
    "## گرفتن سن افراد سوار بر کشتی\n",
    "- دقت کنید که بعضی از سلول‌های این ستون خالی است پس باید فقط قسمت‌های دارای مقدار را بگیریم"
   ]
  },
  {
   "cell_type": "code",
   "execution_count": 3,
   "metadata": {},
   "outputs": [],
   "source": [
    "to_plot = df_titanic['Age'][ df_titanic['Age'].notna()].values"
   ]
  },
  {
   "cell_type": "code",
   "execution_count": null,
   "metadata": {},
   "outputs": [],
   "source": []
  },
  {
   "cell_type": "markdown",
   "metadata": {},
   "source": [
    "## نشان دادن توزیع به وسیله‌ی هیستوگرام"
   ]
  },
  {
   "cell_type": "code",
   "execution_count": 4,
   "metadata": {},
   "outputs": [
    {
     "data": {
      "image/png": "[encoded data removed]",
      "text/plain": [
       "<Figure size 1152x432 with 1 Axes>"
      ]
     },
     "metadata": {
      "needs_background": "light"
     },
     "output_type": "display_data"
    }
   ],
   "source": [
    "plt.figure( figsize=(16,6) )\n",
    "plt.title('Histogram of Age')\n",
    "\n",
    "plt.hist( to_plot )\n",
    "\n",
    "plt.xlabel('Age')\n",
    "plt.ylabel('Frequency')\n",
    "plt.show()\n"
   ]
  },
  {
   "cell_type": "markdown",
   "metadata": {},
   "source": [
    "می‌توانیم به صورت شهودی ببینیم که توزیع سن افراد سوار بر کشتی کاملا از یک توزیع نرمال پیروی نمی‌کند."
   ]
  },
  {
   "cell_type": "code",
   "execution_count": null,
   "metadata": {},
   "outputs": [],
   "source": []
  },
  {
   "cell_type": "markdown",
   "metadata": {},
   "source": [
    "## کشیدن `QQ-plot`"
   ]
  },
  {
   "cell_type": "code",
   "execution_count": null,
   "metadata": {},
   "outputs": [],
   "source": [
    "plt.figure( figsize=(16,6) )\n",
    "plt.title('Q-Q Plot for Age vs. Normal Distribution')\n",
    "\n",
    "sm.qqplot( to_plot,  ax = plt.gca(), fit = True )\n",
    "plt.plot( [ -3, 3 ], [-3, 3], 'k--' )\n",
    "\n",
    "plt.show()"
   ]
  },
  {
   "cell_type": "markdown",
   "metadata": {},
   "source": [
    "در نمودار `Q-Q` نیز می‌توان مشاهده کرد، که جز در قسمت‌های ابتدایی که توزیع سن با توزیع نرمال تفاوت زیادی دارد، در سایر نقاط‌ توزیع نزدیک به توزیع نرمال است (نقاط نزدیک به نیم‌ساز ربع اول هستند)."
   ]
  },
  {
   "cell_type": "code",
   "execution_count": null,
   "metadata": {},
   "outputs": [],
   "source": []
  }
 ],
 "metadata": {
  "kernelspec": {
   "display_name": "Python 3",
   "language": "python",
   "name": "python3"
  },
  "language_info": {
   "codemirror_mode": {
    "name": "ipython",
    "version": 3
   },
   "file_extension": ".py",
   "mimetype": "text/x-python",
   "name": "python",
   "nbconvert_exporter": "python",
   "pygments_lexer": "ipython3",
   "version": "3.7.4"
  }
 },
 "nbformat": 4,
 "nbformat_minor": 4
}
