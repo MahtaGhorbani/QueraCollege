{
 "cells": [
  {
   "cell_type": "code",
   "execution_count": 1,
   "metadata": {},
   "outputs": [],
   "source": [
    "#in His Name"
   ]
  },
  {
   "cell_type": "markdown",
   "metadata": {},
   "source": [
    "# اضافه کردن کتاب‌خانه‌های مورد نیاز"
   ]
  },
  {
   "cell_type": "markdown",
   "metadata": {},
   "source": [
    "در صورتیکه کتاب‌خانه‌ها را تاکنون نصب نکرده‌اید، به کمک دستورات زیر این کتاب‌خانه‌ها را اضافه نمایید"
   ]
  },
  {
   "cell_type": "code",
   "execution_count": 3,
   "metadata": {},
   "outputs": [
    {
     "name": "stdout",
     "output_type": "stream",
     "text": [
      "Requirement already satisfied: pandas in c:\\users\\mahta\\appdata\\local\\programs\\python\\python37-32\\lib\\site-packages (0.25.2)\n",
      "Requirement already satisfied: python-dateutil>=2.6.1 in c:\\users\\mahta\\appdata\\local\\programs\\python\\python37-32\\lib\\site-packages (from pandas) (2.8.0)\n",
      "Requirement already satisfied: pytz>=2017.2 in c:\\users\\mahta\\appdata\\local\\programs\\python\\python37-32\\lib\\site-packages (from pandas) (2019.3)\n",
      "Requirement already satisfied: numpy>=1.13.3 in c:\\users\\mahta\\appdata\\local\\programs\\python\\python37-32\\lib\\site-packages (from pandas) (1.17.3)\n",
      "Requirement already satisfied: six>=1.5 in c:\\users\\mahta\\appdata\\local\\programs\\python\\python37-32\\lib\\site-packages (from python-dateutil>=2.6.1->pandas) (1.12.0)\n",
      "Requirement already satisfied: matplotlib in c:\\users\\mahta\\appdata\\local\\programs\\python\\python37-32\\lib\\site-packages (3.1.2)\n",
      "Requirement already satisfied: python-dateutil>=2.1 in c:\\users\\mahta\\appdata\\local\\programs\\python\\python37-32\\lib\\site-packages (from matplotlib) (2.8.0)\n",
      "Requirement already satisfied: pyparsing!=2.0.4,!=2.1.2,!=2.1.6,>=2.0.1 in c:\\users\\mahta\\appdata\\local\\programs\\python\\python37-32\\lib\\site-packages (from matplotlib) (2.4.5)\n",
      "Requirement already satisfied: kiwisolver>=1.0.1 in c:\\users\\mahta\\appdata\\local\\programs\\python\\python37-32\\lib\\site-packages (from matplotlib) (1.1.0)\n",
      "Requirement already satisfied: cycler>=0.10 in c:\\users\\mahta\\appdata\\local\\programs\\python\\python37-32\\lib\\site-packages (from matplotlib) (0.10.0)\n",
      "Requirement already satisfied: numpy>=1.11 in c:\\users\\mahta\\appdata\\local\\programs\\python\\python37-32\\lib\\site-packages (from matplotlib) (1.17.3)\n",
      "Requirement already satisfied: six>=1.5 in c:\\users\\mahta\\appdata\\local\\programs\\python\\python37-32\\lib\\site-packages (from python-dateutil>=2.1->matplotlib) (1.12.0)\n",
      "Requirement already satisfied: setuptools in c:\\users\\mahta\\appdata\\local\\programs\\python\\python37-32\\lib\\site-packages (from kiwisolver>=1.0.1->matplotlib) (40.8.0)\n",
      "Requirement already satisfied: numpy in c:\\users\\mahta\\appdata\\local\\programs\\python\\python37-32\\lib\\site-packages (1.17.3)\n",
      "Requirement already satisfied: datetime in c:\\users\\mahta\\appdata\\local\\programs\\python\\python37-32\\lib\\site-packages (4.3)\n",
      "Requirement already satisfied: pytz in c:\\users\\mahta\\appdata\\local\\programs\\python\\python37-32\\lib\\site-packages (from datetime) (2019.3)\n",
      "Requirement already satisfied: zope.interface in c:\\users\\mahta\\appdata\\local\\programs\\python\\python37-32\\lib\\site-packages (from datetime) (5.1.0)\n",
      "Requirement already satisfied: setuptools in c:\\users\\mahta\\appdata\\local\\programs\\python\\python37-32\\lib\\site-packages (from zope.interface->datetime) (40.8.0)\n",
      "Requirement already satisfied: tqdm in c:\\users\\mahta\\appdata\\local\\programs\\python\\python37-32\\lib\\site-packages (4.45.0)\n",
      "Requirement already satisfied: sklearn in c:\\users\\mahta\\appdata\\local\\programs\\python\\python37-32\\lib\\site-packages (0.0)\n",
      "Requirement already satisfied: scikit-learn in c:\\users\\mahta\\appdata\\local\\programs\\python\\python37-32\\lib\\site-packages (from sklearn) (0.21.2)\n",
      "Requirement already satisfied: joblib>=0.11 in c:\\users\\mahta\\appdata\\local\\programs\\python\\python37-32\\lib\\site-packages (from scikit-learn->sklearn) (0.14.1)\n",
      "Requirement already satisfied: scipy>=0.17.0 in c:\\users\\mahta\\appdata\\local\\programs\\python\\python37-32\\lib\\site-packages (from scikit-learn->sklearn) (1.3.3)\n",
      "Requirement already satisfied: numpy>=1.11.0 in c:\\users\\mahta\\appdata\\local\\programs\\python\\python37-32\\lib\\site-packages (from scikit-learn->sklearn) (1.17.3)\n"
     ]
    }
   ],
   "source": [
    "!pip install pandas\n",
    "!pip install matplotlib\n",
    "!pip install numpy\n",
    "!pip install datetime\n",
    "!pip install tqdm\n",
    "!pip install sklearn"
   ]
  },
  {
   "cell_type": "code",
   "execution_count": 113,
   "metadata": {},
   "outputs": [],
   "source": [
    "import pandas as pd\n",
    "import matplotlib.pyplot as plt\n",
    "import numpy as np\n",
    "from datetime import datetime\n",
    "from tqdm import tqdm\n",
    "from sklearn.decomposition import PCA\n",
    "from sklearn.preprocessing import StandardScaler"
   ]
  },
  {
   "cell_type": "markdown",
   "metadata": {},
   "source": [
    "ابتدا فایل\n",
    "`notifications.csv`\n",
    "که همراه با این نوت‌بوک دانلود کرده‌اید را به وسیله‌ی کتابخانه\n",
    "`pandas`\n",
    "می‌خوانیم"
   ]
  },
  {
   "cell_type": "code",
   "execution_count": 114,
   "metadata": {},
   "outputs": [],
   "source": [
    "interactions = pd.read_csv('notifications.csv')"
   ]
  },
  {
   "cell_type": "code",
   "execution_count": null,
   "metadata": {},
   "outputs": [],
   "source": []
  },
  {
   "cell_type": "markdown",
   "metadata": {},
   "source": [
    "در این مرحله به کمک کتاب‌خانه `datetime` پیش‌پردازش لازم را روی داده انجام داده و ستون های جدیدی به آن اضافه می‌کنید. "
   ]
  },
  {
   "cell_type": "code",
   "execution_count": 115,
   "metadata": {},
   "outputs": [],
   "source": [
    "stime = \"01/06/2019\"\n",
    "time_origin = datetime.strptime(stime, \"%d/%m/%Y\").timestamp()"
   ]
  },
  {
   "cell_type": "code",
   "execution_count": 116,
   "metadata": {},
   "outputs": [],
   "source": [
    "interactions['interaction_time_absolute'] = interactions['interaction_time'].map(lambda x : datetime.fromtimestamp(time_origin + int(x)))"
   ]
  },
  {
   "cell_type": "code",
   "execution_count": 117,
   "metadata": {},
   "outputs": [
    {
     "data": {
      "text/html": [
       "<div>\n",
       "<style scoped>\n",
       "    .dataframe tbody tr th:only-of-type {\n",
       "        vertical-align: middle;\n",
       "    }\n",
       "\n",
       "    .dataframe tbody tr th {\n",
       "        vertical-align: top;\n",
       "    }\n",
       "\n",
       "    .dataframe thead th {\n",
       "        text-align: right;\n",
       "    }\n",
       "</style>\n",
       "<table border=\"1\" class=\"dataframe\">\n",
       "  <thead>\n",
       "    <tr style=\"text-align: right;\">\n",
       "      <th></th>\n",
       "      <th>action</th>\n",
       "      <th>application_id</th>\n",
       "      <th>interaction_time</th>\n",
       "      <th>notification_id</th>\n",
       "      <th>user_id</th>\n",
       "      <th>interaction_time_absolute</th>\n",
       "    </tr>\n",
       "  </thead>\n",
       "  <tbody>\n",
       "    <tr>\n",
       "      <th>0</th>\n",
       "      <td>F</td>\n",
       "      <td>1</td>\n",
       "      <td>4489200</td>\n",
       "      <td>79</td>\n",
       "      <td>665</td>\n",
       "      <td>2019-07-22 23:00:00</td>\n",
       "    </tr>\n",
       "    <tr>\n",
       "      <th>1</th>\n",
       "      <td>F</td>\n",
       "      <td>1</td>\n",
       "      <td>4489200</td>\n",
       "      <td>79</td>\n",
       "      <td>6280</td>\n",
       "      <td>2019-07-22 23:00:00</td>\n",
       "    </tr>\n",
       "    <tr>\n",
       "      <th>2</th>\n",
       "      <td>F</td>\n",
       "      <td>1</td>\n",
       "      <td>4388400</td>\n",
       "      <td>78</td>\n",
       "      <td>14774</td>\n",
       "      <td>2019-07-21 19:00:00</td>\n",
       "    </tr>\n",
       "    <tr>\n",
       "      <th>3</th>\n",
       "      <td>F</td>\n",
       "      <td>1</td>\n",
       "      <td>4410000</td>\n",
       "      <td>78</td>\n",
       "      <td>3152</td>\n",
       "      <td>2019-07-22 01:00:00</td>\n",
       "    </tr>\n",
       "    <tr>\n",
       "      <th>4</th>\n",
       "      <td>C</td>\n",
       "      <td>1</td>\n",
       "      <td>4410000</td>\n",
       "      <td>72</td>\n",
       "      <td>3633</td>\n",
       "      <td>2019-07-22 01:00:00</td>\n",
       "    </tr>\n",
       "    <tr>\n",
       "      <th>...</th>\n",
       "      <td>...</td>\n",
       "      <td>...</td>\n",
       "      <td>...</td>\n",
       "      <td>...</td>\n",
       "      <td>...</td>\n",
       "      <td>...</td>\n",
       "    </tr>\n",
       "    <tr>\n",
       "      <th>140723</th>\n",
       "      <td>F</td>\n",
       "      <td>0</td>\n",
       "      <td>993600</td>\n",
       "      <td>13</td>\n",
       "      <td>14760</td>\n",
       "      <td>2019-06-12 12:00:00</td>\n",
       "    </tr>\n",
       "    <tr>\n",
       "      <th>140724</th>\n",
       "      <td>F</td>\n",
       "      <td>0</td>\n",
       "      <td>928800</td>\n",
       "      <td>13</td>\n",
       "      <td>2096</td>\n",
       "      <td>2019-06-11 18:00:00</td>\n",
       "    </tr>\n",
       "    <tr>\n",
       "      <th>140725</th>\n",
       "      <td>F</td>\n",
       "      <td>0</td>\n",
       "      <td>900000</td>\n",
       "      <td>13</td>\n",
       "      <td>11308</td>\n",
       "      <td>2019-06-11 10:00:00</td>\n",
       "    </tr>\n",
       "    <tr>\n",
       "      <th>140726</th>\n",
       "      <td>F</td>\n",
       "      <td>0</td>\n",
       "      <td>885600</td>\n",
       "      <td>13</td>\n",
       "      <td>5975</td>\n",
       "      <td>2019-06-11 06:00:00</td>\n",
       "    </tr>\n",
       "    <tr>\n",
       "      <th>140727</th>\n",
       "      <td>F</td>\n",
       "      <td>0</td>\n",
       "      <td>907200</td>\n",
       "      <td>13</td>\n",
       "      <td>15272</td>\n",
       "      <td>2019-06-11 12:00:00</td>\n",
       "    </tr>\n",
       "  </tbody>\n",
       "</table>\n",
       "<p>140728 rows × 6 columns</p>\n",
       "</div>"
      ],
      "text/plain": [
       "       action  application_id  interaction_time  notification_id  user_id  \\\n",
       "0           F               1           4489200               79      665   \n",
       "1           F               1           4489200               79     6280   \n",
       "2           F               1           4388400               78    14774   \n",
       "3           F               1           4410000               78     3152   \n",
       "4           C               1           4410000               72     3633   \n",
       "...       ...             ...               ...              ...      ...   \n",
       "140723      F               0            993600               13    14760   \n",
       "140724      F               0            928800               13     2096   \n",
       "140725      F               0            900000               13    11308   \n",
       "140726      F               0            885600               13     5975   \n",
       "140727      F               0            907200               13    15272   \n",
       "\n",
       "       interaction_time_absolute  \n",
       "0            2019-07-22 23:00:00  \n",
       "1            2019-07-22 23:00:00  \n",
       "2            2019-07-21 19:00:00  \n",
       "3            2019-07-22 01:00:00  \n",
       "4            2019-07-22 01:00:00  \n",
       "...                          ...  \n",
       "140723       2019-06-12 12:00:00  \n",
       "140724       2019-06-11 18:00:00  \n",
       "140725       2019-06-11 10:00:00  \n",
       "140726       2019-06-11 06:00:00  \n",
       "140727       2019-06-11 12:00:00  \n",
       "\n",
       "[140728 rows x 6 columns]"
      ]
     },
     "execution_count": 117,
     "metadata": {},
     "output_type": "execute_result"
    }
   ],
   "source": [
    "interactions"
   ]
  },
  {
   "cell_type": "markdown",
   "metadata": {},
   "source": [
    " در این قسمت در تابع نگاشت باید از روی ورودی ساعت آن‌را استخراج کنید "
   ]
  },
  {
   "cell_type": "code",
   "execution_count": 118,
   "metadata": {},
   "outputs": [],
   "source": [
    "interactions['interaction_hour'] = interactions['interaction_time_absolute'].map(lambda x : x.hour)"
   ]
  },
  {
   "cell_type": "code",
   "execution_count": null,
   "metadata": {},
   "outputs": [],
   "source": []
  },
  {
   "cell_type": "markdown",
   "metadata": {},
   "source": [
    " در این قسمت در تابع نگاشت باید از روی ورودی روز هفته آن‌را استخراج کنید \n",
    "حواستان باشد که روز هفته ای را که تابع مربوطه در کتابخانه `datetime` به عنوان خروجی می‌دهد برای هفته‌ای که با   شنبه آغاز می‌شود معتبر نیست :) "
   ]
  },
  {
   "cell_type": "code",
   "execution_count": 123,
   "metadata": {},
   "outputs": [],
   "source": [
    "interactions['interaction_dow'] = interactions['interaction_time_absolute'].map(lambda x : ((x.weekday())))"
   ]
  },
  {
   "cell_type": "code",
   "execution_count": null,
   "metadata": {},
   "outputs": [],
   "source": []
  },
  {
   "cell_type": "markdown",
   "metadata": {},
   "source": [
    "# کار کردن با `interaction_hour` "
   ]
  },
  {
   "cell_type": "markdown",
   "metadata": {},
   "source": [
    " با توابع `groupby` و `agg` می‌توانید داده را بر اساس متغیرهای مختلف گروه‌بندی کرده و روی نتیجه آن توابع مختلفی اعمال نمایید."
   ]
  },
  {
   "cell_type": "code",
   "execution_count": 125,
   "metadata": {},
   "outputs": [],
   "source": [
    "actions = interactions.groupby(['action', 'interaction_hour']).agg({'action':'count'})"
   ]
  },
  {
   "cell_type": "code",
   "execution_count": null,
   "metadata": {},
   "outputs": [],
   "source": []
  },
  {
   "cell_type": "code",
   "execution_count": 126,
   "metadata": {},
   "outputs": [
    {
     "data": {
      "text/plain": [
       "<matplotlib.collections.PathCollection at 0x12e50050>"
      ]
     },
     "execution_count": 126,
     "metadata": {},
     "output_type": "execute_result"
    },
    {
     "data": {
      "image/png": "[encoded data removed]",
      "text/plain": [
       "<Figure size 432x288 with 1 Axes>"
      ]
     },
     "metadata": {
      "needs_background": "light"
     },
     "output_type": "display_data"
    }
   ],
   "source": [
    "notifs_clicked = np.array(actions.loc['C']['action'].values)\n",
    "notifs_failed = np.array(actions.loc['F']['action'].values)\n",
    "notifs_count = notifs_clicked + notifs_failed\n",
    "plt.scatter(range(24), notifs_clicked, c='g')\n",
    "plt.scatter(range(24), notifs_failed, c='r')"
   ]
  },
  {
   "cell_type": "code",
   "execution_count": 127,
   "metadata": {},
   "outputs": [
    {
     "data": {
      "image/png": "[encoded data removed]",
      "text/plain": [
       "<Figure size 432x288 with 1 Axes>"
      ]
     },
     "metadata": {
      "needs_background": "light"
     },
     "output_type": "display_data"
    }
   ],
   "source": [
    "plt.plot(notifs_count, c='b')\n",
    "plt.plot(notifs_clicked, c='g')\n",
    "plt.plot(notifs_failed, c='r')\n",
    "plt.show()"
   ]
  },
  {
   "cell_type": "code",
   "execution_count": 128,
   "metadata": {},
   "outputs": [
    {
     "data": {
      "image/png": "[encoded data removed]",
      "text/plain": [
       "<Figure size 432x288 with 1 Axes>"
      ]
     },
     "metadata": {
      "needs_background": "light"
     },
     "output_type": "display_data"
    }
   ],
   "source": [
    "hit_rate = notifs_clicked / (notifs_clicked + notifs_failed)\n",
    "plt.plot(hit_rate)\n",
    "plt.show()"
   ]
  },
  {
   "cell_type": "markdown",
   "metadata": {},
   "source": [
    "ستونی با نام `hour_hit_rate` به داده اضافه می‌کنید که نشان‌دهنده‌ی درصد موفقیت اعلان‌هایی است که در آن ساعت فرستاده شده‌اند."
   ]
  },
  {
   "cell_type": "code",
   "execution_count": 129,
   "metadata": {},
   "outputs": [],
   "source": [
    "interactions['hour_hit_rate'] = interactions['interaction_hour'].map(lambda x : hit_rate[x])"
   ]
  },
  {
   "cell_type": "code",
   "execution_count": null,
   "metadata": {},
   "outputs": [],
   "source": []
  },
  {
   "cell_type": "markdown",
   "metadata": {},
   "source": [
    "# کار کردن با `interaction_dow` "
   ]
  },
  {
   "cell_type": "markdown",
   "metadata": {},
   "source": [
    " با توابع `groupby` و `agg`  داده را بر اساس متغیرهای `action` و `interaction_dow` گروه‌بندی کرده و تعداد هر دسته را بشمارید."
   ]
  },
  {
   "cell_type": "code",
   "execution_count": 130,
   "metadata": {},
   "outputs": [],
   "source": [
    "actions = interactions.groupby(['action','interaction_dow']).agg({'action':'count'})"
   ]
  },
  {
   "cell_type": "markdown",
   "metadata": {},
   "source": [
    "مانند قسمت قبل اعلان‌های موفق و ناموفق را برای هر روز هفته استخراج کرده و نمودارهای مربوطه را رسم نمایید."
   ]
  },
  {
   "cell_type": "code",
   "execution_count": 131,
   "metadata": {},
   "outputs": [
    {
     "data": {
      "text/plain": [
       "<matplotlib.collections.PathCollection at 0x13449c90>"
      ]
     },
     "execution_count": 131,
     "metadata": {},
     "output_type": "execute_result"
    },
    {
     "data": {
      "image/png": "[encoded data removed]",
      "text/plain": [
       "<Figure size 432x288 with 1 Axes>"
      ]
     },
     "metadata": {
      "needs_background": "light"
     },
     "output_type": "display_data"
    }
   ],
   "source": [
    "notifs_clicked = np.array(actions.loc['C']['action'].values)\n",
    "notifs_failed = np.array(actions.loc['F']['action'].values)\n",
    "notifs_count = notifs_clicked + notifs_failed\n",
    "plt.scatter(range(7),notifs_clicked,c='g')\n",
    "plt.scatter(range(7),notifs_failed,c='r')"
   ]
  },
  {
   "cell_type": "code",
   "execution_count": 132,
   "metadata": {},
   "outputs": [
    {
     "data": {
      "image/png": "[encoded data removed]",
      "text/plain": [
       "<Figure size 432x288 with 1 Axes>"
      ]
     },
     "metadata": {
      "needs_background": "light"
     },
     "output_type": "display_data"
    }
   ],
   "source": [
    "plt.plot(notifs_count, 'b')\n",
    "plt.plot(notifs_clicked, c='g')\n",
    "plt.plot(notifs_failed, c='r')\n",
    "plt.show()"
   ]
  },
  {
   "cell_type": "code",
   "execution_count": 133,
   "metadata": {},
   "outputs": [
    {
     "data": {
      "image/png": "[encoded data removed]",
      "text/plain": [
       "<Figure size 432x288 with 1 Axes>"
      ]
     },
     "metadata": {
      "needs_background": "light"
     },
     "output_type": "display_data"
    }
   ],
   "source": [
    "hit_rate = notifs_clicked / (notifs_clicked + notifs_failed)\n",
    "plt.plot(hit_rate)\n",
    "plt.show()"
   ]
  },
  {
   "cell_type": "markdown",
   "metadata": {},
   "source": [
    "ستونی با نام `dow_hit_rate` به داده اضافه می‌کنید که نشان‌دهنده‌ی درصد موفقیت اعلان‌هایی است که در آن روز از هفته فرستاده شده‌اند."
   ]
  },
  {
   "cell_type": "code",
   "execution_count": 134,
   "metadata": {},
   "outputs": [],
   "source": [
    "interactions['dow_hit_rate'] = interactions['interaction_dow'].map(lambda x : hit_rate[x])"
   ]
  },
  {
   "cell_type": "markdown",
   "metadata": {},
   "source": [
    "# کار کردن با `application_id` "
   ]
  },
  {
   "cell_type": "markdown",
   "metadata": {},
   "source": [
    " با توابع `groupby` و `agg`  داده را بر اساس متغیرهای `action` و `application_id` گروه‌بندی کرده و تعداد هر دسته را بشمارید."
   ]
  },
  {
   "cell_type": "code",
   "execution_count": 135,
   "metadata": {},
   "outputs": [],
   "source": [
    "actions = interactions.groupby(['action', 'application_id']).agg({'action':'count'})"
   ]
  },
  {
   "cell_type": "code",
   "execution_count": 136,
   "metadata": {},
   "outputs": [],
   "source": [
    "notifs_clicked = np.array(actions.loc['C']['action'].values)\n",
    "notifs_failed = np.array(actions.loc['F']['action'].values)\n",
    "notifs_count = notifs_clicked + notifs_failed"
   ]
  },
  {
   "cell_type": "code",
   "execution_count": 137,
   "metadata": {},
   "outputs": [],
   "source": [
    "hit_rate = notifs_clicked / (notifs_clicked + notifs_failed)"
   ]
  },
  {
   "cell_type": "markdown",
   "metadata": {},
   "source": [
    "ستونی با نام `app_id_hit_rate` به داده اضافه می‌کنید که نشان‌دهنده‌ی درصد موفقیت اعلان‌هایی است که از طرف آن برنامه فرستاده شده‌اند."
   ]
  },
  {
   "cell_type": "code",
   "execution_count": 138,
   "metadata": {},
   "outputs": [],
   "source": [
    "interactions['app_id_hit_rate'] = interactions['application_id'].map(lambda x : hit_rate[x])"
   ]
  },
  {
   "cell_type": "markdown",
   "metadata": {},
   "source": [
    "# محاسبه درصد موفقیت اعلان‌هایی که به هر کاربر فرستاده شده‌اند"
   ]
  },
  {
   "cell_type": "markdown",
   "metadata": {},
   "source": [
    "به کمک اعمال تابع `numpy.unique` روی `interactions['user_id']`، .اعضای آن‌را یکتا می‌کنیم "
   ]
  },
  {
   "cell_type": "code",
   "execution_count": 139,
   "metadata": {},
   "outputs": [],
   "source": [
    "user_ids = np.unique(interactions['user_id'])"
   ]
  },
  {
   "cell_type": "code",
   "execution_count": null,
   "metadata": {},
   "outputs": [],
   "source": [
    "\n"
   ]
  },
  {
   "cell_type": "markdown",
   "metadata": {},
   "source": [
    "تابع `get_user_id_hit_rate` شناسه کاربر را به عنوان ورودی دریافت کرده و درصد موفقیت اعلان‌هایی که به این کاربر فرستاده شده را به عنوان خروجی باز می‌گرداند.\n",
    "مثلا اگر کاربری با شناسه کاربری `user_id` صد اعلان دریافت کرده و روی پنجاه تا کلیک کرده است، این تابع عدد `0.5`را به عنوان خروجی باز می‌گرداند."
   ]
  },
  {
   "cell_type": "code",
   "execution_count": 151,
   "metadata": {},
   "outputs": [
    {
     "name": "stdout",
     "output_type": "stream",
     "text": [
      "49 3\n"
     ]
    },
    {
     "data": {
      "text/plain": [
       "0.057692307692307696"
      ]
     },
     "execution_count": 151,
     "metadata": {},
     "output_type": "execute_result"
    }
   ],
   "source": [
    "x = interactions[interactions['user_id']==6280]\n",
    "actions=x.groupby(['action']).agg({'action':'count'})\n",
    "try:\n",
    "    clicked = actions.loc['C']['action']\n",
    "except KeyError:\n",
    "    clicked = 0\n",
    "try:\n",
    "    failed =  actions.loc['F']['action']\n",
    "except KeyError:\n",
    "    failed = 0\n",
    "print(failed,clicked)\n",
    "clicked/(clicked+failed)"
   ]
  },
  {
   "cell_type": "code",
   "execution_count": 146,
   "metadata": {},
   "outputs": [],
   "source": [
    "def get_user_id_hit_rate(user_id):\n",
    "    x = interactions[interactions['user_id']==user_id]\n",
    "    actions=x.groupby(['action']).agg({'action':'count'})\n",
    "    try:\n",
    "        clicked = actions.loc['C']['action']\n",
    "    except KeyError:\n",
    "        clicked = 0\n",
    "    try:\n",
    "        failed =  actions.loc['F']['action']\n",
    "    except KeyError:\n",
    "        failed = 0\n",
    "            \n",
    "    total = failed + clicked\n",
    "    return (clicked / total)\n"
   ]
  },
  {
   "cell_type": "markdown",
   "metadata": {},
   "source": [
    "کتاب‌خانه `tqdm` برای نشان دادن درصد پیشرفت حلقه به کار می‌رود."
   ]
  },
  {
   "cell_type": "code",
   "execution_count": 147,
   "metadata": {
    "scrolled": true
   },
   "outputs": [
    {
     "name": "stderr",
     "output_type": "stream",
     "text": [
      "100%|███████████████████████████████████████████████████████████████████████████| 14233/14233 [00:52<00:00, 270.36it/s]\n"
     ]
    }
   ],
   "source": [
    "user_id_hit_rate = {}\n",
    "for user_id in tqdm(user_ids):\n",
    "    user_id_hit_rate[user_id] = get_user_id_hit_rate(user_id)"
   ]
  },
  {
   "cell_type": "code",
   "execution_count": null,
   "metadata": {},
   "outputs": [],
   "source": []
  },
  {
   "cell_type": "markdown",
   "metadata": {},
   "source": [
    "ستونی با نام `user_id_hit_rate` به داده اضافه می‌کنید که نشان‌دهنده‌ی درصد موفقیت اعلان‌هایی است که برای کاربر این اعلان، فرستاده شده است."
   ]
  },
  {
   "cell_type": "code",
   "execution_count": 153,
   "metadata": {},
   "outputs": [],
   "source": [
    "interactions['user_id_hit_rate'] = interactions['user_id'].map(lambda user_id : user_id_hit_rate[user_id])"
   ]
  },
  {
   "cell_type": "code",
   "execution_count": null,
   "metadata": {},
   "outputs": [],
   "source": []
  },
  {
   "cell_type": "code",
   "execution_count": 154,
   "metadata": {},
   "outputs": [
    {
     "data": {
      "text/html": [
       "<div>\n",
       "<style scoped>\n",
       "    .dataframe tbody tr th:only-of-type {\n",
       "        vertical-align: middle;\n",
       "    }\n",
       "\n",
       "    .dataframe tbody tr th {\n",
       "        vertical-align: top;\n",
       "    }\n",
       "\n",
       "    .dataframe thead th {\n",
       "        text-align: right;\n",
       "    }\n",
       "</style>\n",
       "<table border=\"1\" class=\"dataframe\">\n",
       "  <thead>\n",
       "    <tr style=\"text-align: right;\">\n",
       "      <th></th>\n",
       "      <th>action</th>\n",
       "      <th>application_id</th>\n",
       "      <th>interaction_time</th>\n",
       "      <th>notification_id</th>\n",
       "      <th>user_id</th>\n",
       "      <th>interaction_time_absolute</th>\n",
       "      <th>interaction_hour</th>\n",
       "      <th>interaction_dow</th>\n",
       "      <th>hour_hit_rate</th>\n",
       "      <th>dow_hit_rate</th>\n",
       "      <th>app_id_hit_rate</th>\n",
       "      <th>user_id_hit_rate</th>\n",
       "    </tr>\n",
       "  </thead>\n",
       "  <tbody>\n",
       "    <tr>\n",
       "      <th>0</th>\n",
       "      <td>F</td>\n",
       "      <td>1</td>\n",
       "      <td>4489200</td>\n",
       "      <td>79</td>\n",
       "      <td>665</td>\n",
       "      <td>2019-07-22 23:00:00</td>\n",
       "      <td>23</td>\n",
       "      <td>0</td>\n",
       "      <td>0.124309</td>\n",
       "      <td>0.156102</td>\n",
       "      <td>0.185299</td>\n",
       "      <td>0.000000</td>\n",
       "    </tr>\n",
       "    <tr>\n",
       "      <th>1</th>\n",
       "      <td>F</td>\n",
       "      <td>1</td>\n",
       "      <td>4489200</td>\n",
       "      <td>79</td>\n",
       "      <td>6280</td>\n",
       "      <td>2019-07-22 23:00:00</td>\n",
       "      <td>23</td>\n",
       "      <td>0</td>\n",
       "      <td>0.124309</td>\n",
       "      <td>0.156102</td>\n",
       "      <td>0.185299</td>\n",
       "      <td>0.057692</td>\n",
       "    </tr>\n",
       "    <tr>\n",
       "      <th>2</th>\n",
       "      <td>F</td>\n",
       "      <td>1</td>\n",
       "      <td>4388400</td>\n",
       "      <td>78</td>\n",
       "      <td>14774</td>\n",
       "      <td>2019-07-21 19:00:00</td>\n",
       "      <td>19</td>\n",
       "      <td>6</td>\n",
       "      <td>0.169532</td>\n",
       "      <td>0.132857</td>\n",
       "      <td>0.185299</td>\n",
       "      <td>0.074074</td>\n",
       "    </tr>\n",
       "    <tr>\n",
       "      <th>3</th>\n",
       "      <td>F</td>\n",
       "      <td>1</td>\n",
       "      <td>4410000</td>\n",
       "      <td>78</td>\n",
       "      <td>3152</td>\n",
       "      <td>2019-07-22 01:00:00</td>\n",
       "      <td>1</td>\n",
       "      <td>0</td>\n",
       "      <td>0.127389</td>\n",
       "      <td>0.156102</td>\n",
       "      <td>0.185299</td>\n",
       "      <td>0.000000</td>\n",
       "    </tr>\n",
       "    <tr>\n",
       "      <th>4</th>\n",
       "      <td>C</td>\n",
       "      <td>1</td>\n",
       "      <td>4410000</td>\n",
       "      <td>72</td>\n",
       "      <td>3633</td>\n",
       "      <td>2019-07-22 01:00:00</td>\n",
       "      <td>1</td>\n",
       "      <td>0</td>\n",
       "      <td>0.127389</td>\n",
       "      <td>0.156102</td>\n",
       "      <td>0.185299</td>\n",
       "      <td>0.297872</td>\n",
       "    </tr>\n",
       "    <tr>\n",
       "      <th>...</th>\n",
       "      <td>...</td>\n",
       "      <td>...</td>\n",
       "      <td>...</td>\n",
       "      <td>...</td>\n",
       "      <td>...</td>\n",
       "      <td>...</td>\n",
       "      <td>...</td>\n",
       "      <td>...</td>\n",
       "      <td>...</td>\n",
       "      <td>...</td>\n",
       "      <td>...</td>\n",
       "      <td>...</td>\n",
       "    </tr>\n",
       "    <tr>\n",
       "      <th>140723</th>\n",
       "      <td>F</td>\n",
       "      <td>0</td>\n",
       "      <td>993600</td>\n",
       "      <td>13</td>\n",
       "      <td>14760</td>\n",
       "      <td>2019-06-12 12:00:00</td>\n",
       "      <td>12</td>\n",
       "      <td>2</td>\n",
       "      <td>0.110212</td>\n",
       "      <td>0.120555</td>\n",
       "      <td>0.110793</td>\n",
       "      <td>0.000000</td>\n",
       "    </tr>\n",
       "    <tr>\n",
       "      <th>140724</th>\n",
       "      <td>F</td>\n",
       "      <td>0</td>\n",
       "      <td>928800</td>\n",
       "      <td>13</td>\n",
       "      <td>2096</td>\n",
       "      <td>2019-06-11 18:00:00</td>\n",
       "      <td>18</td>\n",
       "      <td>1</td>\n",
       "      <td>0.159202</td>\n",
       "      <td>0.111282</td>\n",
       "      <td>0.110793</td>\n",
       "      <td>0.000000</td>\n",
       "    </tr>\n",
       "    <tr>\n",
       "      <th>140725</th>\n",
       "      <td>F</td>\n",
       "      <td>0</td>\n",
       "      <td>900000</td>\n",
       "      <td>13</td>\n",
       "      <td>11308</td>\n",
       "      <td>2019-06-11 10:00:00</td>\n",
       "      <td>10</td>\n",
       "      <td>1</td>\n",
       "      <td>0.107435</td>\n",
       "      <td>0.111282</td>\n",
       "      <td>0.110793</td>\n",
       "      <td>0.000000</td>\n",
       "    </tr>\n",
       "    <tr>\n",
       "      <th>140726</th>\n",
       "      <td>F</td>\n",
       "      <td>0</td>\n",
       "      <td>885600</td>\n",
       "      <td>13</td>\n",
       "      <td>5975</td>\n",
       "      <td>2019-06-11 06:00:00</td>\n",
       "      <td>6</td>\n",
       "      <td>1</td>\n",
       "      <td>0.134675</td>\n",
       "      <td>0.111282</td>\n",
       "      <td>0.110793</td>\n",
       "      <td>0.083333</td>\n",
       "    </tr>\n",
       "    <tr>\n",
       "      <th>140727</th>\n",
       "      <td>F</td>\n",
       "      <td>0</td>\n",
       "      <td>907200</td>\n",
       "      <td>13</td>\n",
       "      <td>15272</td>\n",
       "      <td>2019-06-11 12:00:00</td>\n",
       "      <td>12</td>\n",
       "      <td>1</td>\n",
       "      <td>0.110212</td>\n",
       "      <td>0.111282</td>\n",
       "      <td>0.110793</td>\n",
       "      <td>0.083333</td>\n",
       "    </tr>\n",
       "  </tbody>\n",
       "</table>\n",
       "<p>140728 rows × 12 columns</p>\n",
       "</div>"
      ],
      "text/plain": [
       "       action  application_id  interaction_time  notification_id  user_id  \\\n",
       "0           F               1           4489200               79      665   \n",
       "1           F               1           4489200               79     6280   \n",
       "2           F               1           4388400               78    14774   \n",
       "3           F               1           4410000               78     3152   \n",
       "4           C               1           4410000               72     3633   \n",
       "...       ...             ...               ...              ...      ...   \n",
       "140723      F               0            993600               13    14760   \n",
       "140724      F               0            928800               13     2096   \n",
       "140725      F               0            900000               13    11308   \n",
       "140726      F               0            885600               13     5975   \n",
       "140727      F               0            907200               13    15272   \n",
       "\n",
       "       interaction_time_absolute  interaction_hour  interaction_dow  \\\n",
       "0            2019-07-22 23:00:00                23                0   \n",
       "1            2019-07-22 23:00:00                23                0   \n",
       "2            2019-07-21 19:00:00                19                6   \n",
       "3            2019-07-22 01:00:00                 1                0   \n",
       "4            2019-07-22 01:00:00                 1                0   \n",
       "...                          ...               ...              ...   \n",
       "140723       2019-06-12 12:00:00                12                2   \n",
       "140724       2019-06-11 18:00:00                18                1   \n",
       "140725       2019-06-11 10:00:00                10                1   \n",
       "140726       2019-06-11 06:00:00                 6                1   \n",
       "140727       2019-06-11 12:00:00                12                1   \n",
       "\n",
       "        hour_hit_rate  dow_hit_rate  app_id_hit_rate  user_id_hit_rate  \n",
       "0            0.124309      0.156102         0.185299          0.000000  \n",
       "1            0.124309      0.156102         0.185299          0.057692  \n",
       "2            0.169532      0.132857         0.185299          0.074074  \n",
       "3            0.127389      0.156102         0.185299          0.000000  \n",
       "4            0.127389      0.156102         0.185299          0.297872  \n",
       "...               ...           ...              ...               ...  \n",
       "140723       0.110212      0.120555         0.110793          0.000000  \n",
       "140724       0.159202      0.111282         0.110793          0.000000  \n",
       "140725       0.107435      0.111282         0.110793          0.000000  \n",
       "140726       0.134675      0.111282         0.110793          0.083333  \n",
       "140727       0.110212      0.111282         0.110793          0.083333  \n",
       "\n",
       "[140728 rows x 12 columns]"
      ]
     },
     "execution_count": 154,
     "metadata": {},
     "output_type": "execute_result"
    }
   ],
   "source": [
    "interactions"
   ]
  },
  {
   "cell_type": "markdown",
   "metadata": {},
   "source": [
    "# کاهش بعد"
   ]
  },
  {
   "cell_type": "code",
   "execution_count": 155,
   "metadata": {},
   "outputs": [],
   "source": [
    "x = interactions[['hour_hit_rate', 'dow_hit_rate', 'app_id_hit_rate', 'user_id_hit_rate']]"
   ]
  },
  {
   "cell_type": "code",
   "execution_count": 109,
   "metadata": {},
   "outputs": [
    {
     "data": {
      "text/html": [
       "<div>\n",
       "<style scoped>\n",
       "    .dataframe tbody tr th:only-of-type {\n",
       "        vertical-align: middle;\n",
       "    }\n",
       "\n",
       "    .dataframe tbody tr th {\n",
       "        vertical-align: top;\n",
       "    }\n",
       "\n",
       "    .dataframe thead th {\n",
       "        text-align: right;\n",
       "    }\n",
       "</style>\n",
       "<table border=\"1\" class=\"dataframe\">\n",
       "  <thead>\n",
       "    <tr style=\"text-align: right;\">\n",
       "      <th></th>\n",
       "      <th>hour_hit_rate</th>\n",
       "      <th>dow_hit_rate</th>\n",
       "      <th>app_id_hit_rate</th>\n",
       "      <th>user_id_hit_rate</th>\n",
       "    </tr>\n",
       "  </thead>\n",
       "  <tbody>\n",
       "    <tr>\n",
       "      <th>0</th>\n",
       "      <td>0.124309</td>\n",
       "      <td>0.156102</td>\n",
       "      <td>0.185299</td>\n",
       "      <td>0.000000</td>\n",
       "    </tr>\n",
       "    <tr>\n",
       "      <th>1</th>\n",
       "      <td>0.124309</td>\n",
       "      <td>0.156102</td>\n",
       "      <td>0.185299</td>\n",
       "      <td>0.057692</td>\n",
       "    </tr>\n",
       "    <tr>\n",
       "      <th>2</th>\n",
       "      <td>0.169532</td>\n",
       "      <td>0.132857</td>\n",
       "      <td>0.185299</td>\n",
       "      <td>0.074074</td>\n",
       "    </tr>\n",
       "    <tr>\n",
       "      <th>3</th>\n",
       "      <td>0.127389</td>\n",
       "      <td>0.156102</td>\n",
       "      <td>0.185299</td>\n",
       "      <td>0.000000</td>\n",
       "    </tr>\n",
       "    <tr>\n",
       "      <th>4</th>\n",
       "      <td>0.127389</td>\n",
       "      <td>0.156102</td>\n",
       "      <td>0.185299</td>\n",
       "      <td>0.297872</td>\n",
       "    </tr>\n",
       "    <tr>\n",
       "      <th>...</th>\n",
       "      <td>...</td>\n",
       "      <td>...</td>\n",
       "      <td>...</td>\n",
       "      <td>...</td>\n",
       "    </tr>\n",
       "    <tr>\n",
       "      <th>140723</th>\n",
       "      <td>0.110212</td>\n",
       "      <td>0.120555</td>\n",
       "      <td>0.110793</td>\n",
       "      <td>0.000000</td>\n",
       "    </tr>\n",
       "    <tr>\n",
       "      <th>140724</th>\n",
       "      <td>0.159202</td>\n",
       "      <td>0.111282</td>\n",
       "      <td>0.110793</td>\n",
       "      <td>0.000000</td>\n",
       "    </tr>\n",
       "    <tr>\n",
       "      <th>140725</th>\n",
       "      <td>0.107435</td>\n",
       "      <td>0.111282</td>\n",
       "      <td>0.110793</td>\n",
       "      <td>0.000000</td>\n",
       "    </tr>\n",
       "    <tr>\n",
       "      <th>140726</th>\n",
       "      <td>0.134675</td>\n",
       "      <td>0.111282</td>\n",
       "      <td>0.110793</td>\n",
       "      <td>0.083333</td>\n",
       "    </tr>\n",
       "    <tr>\n",
       "      <th>140727</th>\n",
       "      <td>0.110212</td>\n",
       "      <td>0.111282</td>\n",
       "      <td>0.110793</td>\n",
       "      <td>0.083333</td>\n",
       "    </tr>\n",
       "  </tbody>\n",
       "</table>\n",
       "<p>140728 rows × 4 columns</p>\n",
       "</div>"
      ],
      "text/plain": [
       "        hour_hit_rate  dow_hit_rate  app_id_hit_rate  user_id_hit_rate\n",
       "0            0.124309      0.156102         0.185299          0.000000\n",
       "1            0.124309      0.156102         0.185299          0.057692\n",
       "2            0.169532      0.132857         0.185299          0.074074\n",
       "3            0.127389      0.156102         0.185299          0.000000\n",
       "4            0.127389      0.156102         0.185299          0.297872\n",
       "...               ...           ...              ...               ...\n",
       "140723       0.110212      0.120555         0.110793          0.000000\n",
       "140724       0.159202      0.111282         0.110793          0.000000\n",
       "140725       0.107435      0.111282         0.110793          0.000000\n",
       "140726       0.134675      0.111282         0.110793          0.083333\n",
       "140727       0.110212      0.111282         0.110793          0.083333\n",
       "\n",
       "[140728 rows x 4 columns]"
      ]
     },
     "execution_count": 109,
     "metadata": {},
     "output_type": "execute_result"
    }
   ],
   "source": [
    "x"
   ]
  },
  {
   "cell_type": "markdown",
   "metadata": {},
   "source": [
    "ویژگی `action` را به کمک تابع `lambda` از فضای C, F به فضای صفر و یک بنگارید.\n",
    "یعنی\n",
    "\n",
    "- C -> 1\n",
    "- F -> 0"
   ]
  },
  {
   "cell_type": "code",
   "execution_count": null,
   "metadata": {},
   "outputs": [],
   "source": []
  },
  {
   "cell_type": "code",
   "execution_count": 158,
   "metadata": {},
   "outputs": [],
   "source": [
    "y = interactions['action'].map(lambda action:1 if(action =='C') else 0)"
   ]
  },
  {
   "cell_type": "code",
   "execution_count": null,
   "metadata": {},
   "outputs": [],
   "source": []
  },
  {
   "cell_type": "markdown",
   "metadata": {},
   "source": [
    "ابتدا به کمک تابع `StandardScaler` ورودی را normal کرده و سپس به کمک تابع `PCA` آن‌را به دو متغیر، کاهش بعد دهید.  "
   ]
  },
  {
   "cell_type": "markdown",
   "metadata": {},
   "source": [
    "نکته مهم:\n",
    "\n",
    "این دو ورودی تابع `PCA` را با این مقادیر تنظیم کنید.\n",
    "```python \n",
    "svd_solver = 'full'\n",
    "random_state = 0\n",
    "```"
   ]
  },
  {
   "cell_type": "code",
   "execution_count": 162,
   "metadata": {},
   "outputs": [],
   "source": [
    "x_std = StandardScaler().fit_transform(x)\n",
    "pca = PCA(n_components=2,svd_solver ='full', random_state =0)\n",
    "x_pca = pca.fit_transform(x_std)"
   ]
  },
  {
   "cell_type": "code",
   "execution_count": 163,
   "metadata": {},
   "outputs": [
    {
     "data": {
      "text/plain": [
       "array([[ 0.83354461, -0.92177316],\n",
       "       [ 0.95560805, -0.68299933],\n",
       "       [ 1.62382409, -0.44640804],\n",
       "       ...,\n",
       "       [-1.63069132,  0.24856689],\n",
       "       [-0.7715322 ,  0.27465326],\n",
       "       [-1.38476667,  0.56096229]])"
      ]
     },
     "execution_count": 163,
     "metadata": {},
     "output_type": "execute_result"
    }
   ],
   "source": [
    "x_pca"
   ]
  },
  {
   "cell_type": "markdown",
   "metadata": {},
   "source": [
    "حال با رسم نمودار مشاهده کنید که فرایند طی شده چقدر در جداسازی دو دسته از داده موفق بوده است. در ادامه دوره می‌توانید با روش‌های مختلف دسته‌بندی، داده را دسته‌بندی کنید:)"
   ]
  },
  {
   "cell_type": "code",
   "execution_count": 164,
   "metadata": {},
   "outputs": [
    {
     "data": {
      "text/plain": [
       "<matplotlib.collections.PathCollection at 0x12c2c170>"
      ]
     },
     "execution_count": 164,
     "metadata": {},
     "output_type": "execute_result"
    },
    {
     "data": {
      "image/png": "[encoded data removed]",
      "text/plain": [
       "<Figure size 432x288 with 1 Axes>"
      ]
     },
     "metadata": {
      "needs_background": "light"
     },
     "output_type": "display_data"
    }
   ],
   "source": [
    "plt.scatter(x_pca[:,0], x_pca[:,1], c=y)"
   ]
  },
  {
   "cell_type": "markdown",
   "metadata": {},
   "source": [
    "با این دستور `x_pca` را ذخیره کنید تا با ارزیابی آن از این مرحله عبور کنید."
   ]
  },
  {
   "cell_type": "code",
   "execution_count": 165,
   "metadata": {},
   "outputs": [],
   "source": [
    "np.save('x_pca.npy', x_pca)"
   ]
  },
  {
   "cell_type": "code",
   "execution_count": null,
   "metadata": {},
   "outputs": [],
   "source": []
  },
  {
   "cell_type": "code",
   "execution_count": null,
   "metadata": {},
   "outputs": [],
   "source": []
  },
  {
   "cell_type": "code",
   "execution_count": null,
   "metadata": {},
   "outputs": [],
   "source": []
  },
  {
   "cell_type": "code",
   "execution_count": null,
   "metadata": {},
   "outputs": [],
   "source": []
  }
 ],
 "metadata": {
  "kernelspec": {
   "display_name": "Python 3",
   "language": "python",
   "name": "python3"
  },
  "language_info": {
   "codemirror_mode": {
    "name": "ipython",
    "version": 3
   },
   "file_extension": ".py",
   "mimetype": "text/x-python",
   "name": "python",
   "nbconvert_exporter": "python",
   "pygments_lexer": "ipython3",
   "version": "3.7.4"
  }
 },
 "nbformat": 4,
 "nbformat_minor": 4
}
