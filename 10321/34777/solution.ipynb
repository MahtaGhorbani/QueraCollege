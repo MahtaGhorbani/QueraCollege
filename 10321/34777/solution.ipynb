{
 "cells": [
  {
   "cell_type": "code",
   "execution_count": 1,
   "metadata": {},
   "outputs": [],
   "source": [
    "#in His Name"
   ]
  },
  {
   "cell_type": "markdown",
   "metadata": {},
   "source": [
    "نصب و فراخوانی ماژول‌های \n",
    "- `numpy` برای انجام عملیات آرایه‌ای\n",
    "- `matplotlib` برای تصویر سازی داده\n",
    "- `sklearn` برای دسترسی به مجموعه داده دیابت"
   ]
  },
  {
   "cell_type": "code",
   "execution_count": 1,
   "metadata": {},
   "outputs": [
    {
     "name": "stdout",
     "output_type": "stream",
     "text": [
      "Requirement already satisfied: numpy in c:\\users\\mahta\\appdata\\local\\programs\\python\\python37-32\\lib\\site-packages (1.17.3)\n"
     ]
    },
    {
     "name": "stderr",
     "output_type": "stream",
     "text": [
      "You are using pip version 19.0.3, however version 20.0.2 is available.\n",
      "You should consider upgrading via the 'python -m pip install --upgrade pip' command.\n"
     ]
    },
    {
     "name": "stdout",
     "output_type": "stream",
     "text": [
      "Requirement already satisfied: matplotlib in c:\\users\\mahta\\appdata\\local\\programs\\python\\python37-32\\lib\\site-packages (3.1.2)\n",
      "Requirement already satisfied: numpy>=1.11 in c:\\users\\mahta\\appdata\\local\\programs\\python\\python37-32\\lib\\site-packages (from matplotlib) (1.17.3)\n",
      "Requirement already satisfied: python-dateutil>=2.1 in c:\\users\\mahta\\appdata\\local\\programs\\python\\python37-32\\lib\\site-packages (from matplotlib) (2.8.0)\n",
      "Requirement already satisfied: pyparsing!=2.0.4,!=2.1.2,!=2.1.6,>=2.0.1 in c:\\users\\mahta\\appdata\\local\\programs\\python\\python37-32\\lib\\site-packages (from matplotlib) (2.4.5)\n",
      "Requirement already satisfied: kiwisolver>=1.0.1 in c:\\users\\mahta\\appdata\\local\\programs\\python\\python37-32\\lib\\site-packages (from matplotlib) (1.1.0)\n",
      "Requirement already satisfied: cycler>=0.10 in c:\\users\\mahta\\appdata\\local\\programs\\python\\python37-32\\lib\\site-packages (from matplotlib) (0.10.0)\n",
      "Requirement already satisfied: six>=1.5 in c:\\users\\mahta\\appdata\\local\\programs\\python\\python37-32\\lib\\site-packages (from python-dateutil>=2.1->matplotlib) (1.12.0)\n",
      "Requirement already satisfied: setuptools in c:\\users\\mahta\\appdata\\local\\programs\\python\\python37-32\\lib\\site-packages (from kiwisolver>=1.0.1->matplotlib) (40.8.0)\n"
     ]
    },
    {
     "name": "stderr",
     "output_type": "stream",
     "text": [
      "You are using pip version 19.0.3, however version 20.0.2 is available.\n",
      "You should consider upgrading via the 'python -m pip install --upgrade pip' command.\n"
     ]
    },
    {
     "name": "stdout",
     "output_type": "stream",
     "text": [
      "Collecting sklearn\n",
      "  Downloading https://files.pythonhosted.org/packages/1e/7a/dbb3be0ce9bd5c8b7e3d87328e79063f8b263b2b1bfa4774cb1147bfcd3f/sklearn-0.0.tar.gz\n",
      "Collecting scikit-learn (from sklearn)\n",
      "  Downloading https://files.pythonhosted.org/packages/3a/b6/3ce95d31f4713c89b63aa0f251914c08fab302144676f8506f6a18ab641f/scikit_learn-0.22.2.post1-cp37-cp37m-win32.whl (5.7MB)\n",
      "Collecting joblib>=0.11 (from scikit-learn->sklearn)\n",
      "  Downloading https://files.pythonhosted.org/packages/28/5c/cf6a2b65a321c4a209efcdf64c2689efae2cb62661f8f6f4bb28547cf1bf/joblib-0.14.1-py2.py3-none-any.whl (294kB)\n",
      "Requirement already satisfied: numpy>=1.11.0 in c:\\users\\mahta\\appdata\\local\\programs\\python\\python37-32\\lib\\site-packages (from scikit-learn->sklearn) (1.17.3)\n",
      "Requirement already satisfied: scipy>=0.17.0 in c:\\users\\mahta\\appdata\\local\\programs\\python\\python37-32\\lib\\site-packages (from scikit-learn->sklearn) (1.3.3)\n",
      "Installing collected packages: joblib, scikit-learn, sklearn\n",
      "  Running setup.py install for sklearn: started\n",
      "    Running setup.py install for sklearn: finished with status 'done'\n",
      "Successfully installed joblib-0.14.1 scikit-learn-0.22.2.post1 sklearn-0.0\n"
     ]
    },
    {
     "name": "stderr",
     "output_type": "stream",
     "text": [
      "You are using pip version 19.0.3, however version 20.0.2 is available.\n",
      "You should consider upgrading via the 'python -m pip install --upgrade pip' command.\n"
     ]
    }
   ],
   "source": [
    "!pip install numpy\n",
    "!pip install matplotlib\n",
    "!pip install sklearn"
   ]
  },
  {
   "cell_type": "code",
   "execution_count": 2,
   "metadata": {},
   "outputs": [],
   "source": [
    "import numpy as np\n",
    "import matplotlib.pyplot as plt\n",
    "from sklearn import datasets"
   ]
  },
  {
   "cell_type": "markdown",
   "metadata": {},
   "source": [
    "پیاده‌سازی توابع رگرسیون خطی"
   ]
  },
  {
   "cell_type": "code",
   "execution_count": 28,
   "metadata": {},
   "outputs": [],
   "source": [
    "class Linear_Regression:\n",
    "    def __init__(self):\n",
    "        self.x = 0\n",
    "        self.y = 0\n",
    "        self.alpha0 = 0\n",
    "        self.alpha1 = 0\n",
    "        self.coefficients = [self.alpha0, self.alpha1]\n",
    "    \n",
    "    def fit(self, x, y):\n",
    "        self.x = np.array(x)\n",
    "        self.y = np.array(y)\n",
    "        \n",
    "        x_mean = self.x.mean()\n",
    "        y_mean = self.y.mean()\n",
    "        \n",
    "        s=0\n",
    "        m=0\n",
    "        #TODO\n",
    "        for i in range(len(self.x)):\n",
    "            s +=(self.x[i]-x_mean)*(self.y[i]-y_mean)\n",
    "            m += (self.x[i]-x_mean)**2\n",
    "        self.alpha1 = s/m\n",
    "        self.alpha0 = y_mean - self.alpha1*x_mean\n",
    "        \n",
    "        self.coefficients = [self.alpha0, self.alpha1]\n",
    "        return self\n",
    "    \n",
    "    def predict(self, x):\n",
    "        #TODO\n",
    "        n=len(x)\n",
    "        y=[]\n",
    "        for i in range(n):\n",
    "            y.append(self.alpha0 + self.alpha1*x[i])\n",
    "        return y\n",
    "    \n",
    "    def mean_squared_error(self, y_test, y_pred):\n",
    "        #TODO\n",
    "        e=0\n",
    "        n= len(y_pred)\n",
    "        for i in range(n):\n",
    "            e += (y_test[i] - y_pred[i])**2\n",
    "        return e/n"
   ]
  },
  {
   "cell_type": "markdown",
   "metadata": {},
   "source": [
    "دسترسی به مجموعه داده دیابت"
   ]
  },
  {
   "cell_type": "code",
   "execution_count": 29,
   "metadata": {},
   "outputs": [],
   "source": [
    "# Load the diabetes dataset\n",
    "diabetes = datasets.load_diabetes()"
   ]
  },
  {
   "cell_type": "markdown",
   "metadata": {},
   "source": [
    "تقسیم داده به دو قسمت آموزش و آزمون"
   ]
  },
  {
   "cell_type": "code",
   "execution_count": 30,
   "metadata": {},
   "outputs": [],
   "source": [
    "# Use only one feature(BMI)\n",
    "diabetes_X = diabetes.data[:, np.newaxis, 2]\n",
    "\n",
    "# Split the data into training/testing sets\n",
    "n = 100\n",
    "diabetes_X_train = diabetes_X[:-n].reshape(-1)\n",
    "diabetes_X_test = diabetes_X[-n:].reshape(-1)\n",
    "\n",
    "# Split the targets into training/testing sets\n",
    "diabetes_Y_train = diabetes.target[:-n]\n",
    "diabetes_Y_test = diabetes.target[-n:]"
   ]
  },
  {
   "cell_type": "markdown",
   "metadata": {},
   "source": [
    "تعریف مدل و اعمال مدل رگرسیون خطی روی داده"
   ]
  },
  {
   "cell_type": "code",
   "execution_count": 31,
   "metadata": {},
   "outputs": [
    {
     "name": "stdout",
     "output_type": "stream",
     "text": [
      "Coefficients: \n",
      " [152.27671846254782, 953.3606272001138]\n",
      "Mean squared error: 3752.769434735645\n"
     ]
    }
   ],
   "source": [
    "# Create linear regression object\n",
    "regr = Linear_Regression()\n",
    "\n",
    "# Train the model using the training sets\n",
    "regr.fit(diabetes_X_train, diabetes_Y_train)\n",
    "\n",
    "# Make predictions using the testing set\n",
    "diabetes_Y_pred = regr.predict(diabetes_X_test)\n",
    "\n",
    "# The coefficients\n",
    "print('Coefficients: \\n', regr.coefficients)\n",
    "\n",
    "print(\"Mean squared error: {}\".format(regr.mean_squared_error(diabetes_Y_test, diabetes_Y_pred)))"
   ]
  },
  {
   "cell_type": "markdown",
   "metadata": {},
   "source": [
    "رسم خط برازش‌یافته"
   ]
  },
  {
   "cell_type": "code",
   "execution_count": 32,
   "metadata": {},
   "outputs": [
    {
     "data": {
      "text/plain": [
       "[<matplotlib.lines.Line2D at 0x12dc3e90>]"
      ]
     },
     "execution_count": 32,
     "metadata": {},
     "output_type": "execute_result"
    },
    {
     "data": {
      "image/png": "[encoded data removed]",
      "text/plain": [
       "<Figure size 432x288 with 1 Axes>"
      ]
     },
     "metadata": {
      "needs_background": "light"
     },
     "output_type": "display_data"
    }
   ],
   "source": [
    "plt.scatter(diabetes_X_test, diabetes_Y_test)\n",
    "plt.plot(diabetes_X_test, diabetes_Y_pred, c='r', linewidth=2)"
   ]
  },
  {
   "cell_type": "code",
   "execution_count": null,
   "metadata": {},
   "outputs": [],
   "source": []
  },
  {
   "cell_type": "code",
   "execution_count": null,
   "metadata": {},
   "outputs": [],
   "source": []
  }
 ],
 "metadata": {
  "kernelspec": {
   "display_name": "Python 3",
   "language": "python",
   "name": "python3"
  },
  "language_info": {
   "codemirror_mode": {
    "name": "ipython",
    "version": 3
   },
   "file_extension": ".py",
   "mimetype": "text/x-python",
   "name": "python",
   "nbconvert_exporter": "python",
   "pygments_lexer": "ipython3",
   "version": "3.7.4"
  }
 },
 "nbformat": 4,
 "nbformat_minor": 4
}
