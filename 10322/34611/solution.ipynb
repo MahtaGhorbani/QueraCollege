{
 "cells": [
  {
   "cell_type": "markdown",
   "metadata": {},
   "source": [
    "## اضافه‌کردن کتابخانه‌های مورد نیاز"
   ]
  },
  {
   "cell_type": "code",
   "execution_count": 1,
   "metadata": {},
   "outputs": [],
   "source": [
    "import sklearn\n",
    "from sklearn.datasets import load_breast_cancer\n",
    "import pandas as pd\n",
    "import matplotlib.pyplot as plt\n",
    "from matplotlib.lines import Line2D"
   ]
  },
  {
   "cell_type": "markdown",
   "metadata": {},
   "source": [
    "## خواندن داده\n",
    "داده‌های سرطان سینه همراه با کتابخانه `sklearn` وجود داد.\n",
    "و می‌توانیم به شکل زیر آنها را بخوانیم.\n",
    "\n",
    "البته این تابع شکل خام داده‌را برمی‌گرداند."
   ]
  },
  {
   "cell_type": "code",
   "execution_count": 2,
   "metadata": {},
   "outputs": [],
   "source": [
    "data = load_breast_cancer()"
   ]
  },
  {
   "cell_type": "code",
   "execution_count": null,
   "metadata": {},
   "outputs": [],
   "source": [
    "data"
   ]
  },
  {
   "cell_type": "markdown",
   "metadata": {},
   "source": [
    "حال داده را به شکل یک `DataFrame` در می‌اوریم و **خوش‌خیم** یا **بدخیم** بودن را نیز به آن نظیر می‌کنیم."
   ]
  },
  {
   "cell_type": "code",
   "execution_count": null,
   "metadata": {},
   "outputs": [],
   "source": [
    "dataframe = pd.DataFrame(data.data,columns=data.feature_names)\n",
    "dataframe['target'] = data.target\n",
    "dataframe['target'] = dataframe['target'].apply(lambda x:data.target_names[x])"
   ]
  },
  {
   "cell_type": "code",
   "execution_count": null,
   "metadata": {},
   "outputs": [],
   "source": []
  },
  {
   "cell_type": "markdown",
   "metadata": {},
   "source": [
    "تابع زیر را طوری تعریف می‌کنیم تا از روی خوش‌خیم یا بدخیم بودن تومور رنگ متفاوتی برای آن ارائه دهد و سپس آن را روی ستون جواب داده اعمال می‌کنیم"
   ]
  },
  {
   "cell_type": "code",
   "execution_count": null,
   "metadata": {},
   "outputs": [],
   "source": [
    "def choose_color(label):\n",
    "    return 'red' if label == 'malignant' else 'green'\n",
    "colors = dataframe['target'].apply(choose_color)"
   ]
  },
  {
   "cell_type": "markdown",
   "metadata": {},
   "source": [
    "حال نمودار `scatter` دو ویژگی از داده را رسم می‌کنیم تا ببینیم آیا بر اساس این دو ویژگی می‌توان آنها را از هم جداسازی کرد؟\n",
    "\n",
    "همچنین برای واضح تر شدن نمودار برای آن `legend` .می‌سازیم"
   ]
  },
  {
   "cell_type": "code",
   "execution_count": null,
   "metadata": {},
   "outputs": [],
   "source": [
    "plt.figure(figsize=(16,6))\n",
    "plt.scatter(dataframe['mean radius'] ,dataframe['mean concave points'],color=colors)\n",
    "plt.xlabel('radius mean')\n",
    "plt.ylabel('concave points mean')\n",
    "legend_elements = [ Line2D([0], [0], marker='o', color='w', label='benign',\n",
    "                          markerfacecolor='g', markersize=15),\n",
    "                  Line2D([0], [0], marker='o', color='w', label='malignant',\n",
    "                          markerfacecolor='r', markersize=15)]\n",
    "\n",
    "plt.legend(handles=legend_elements,loc='upper left')"
   ]
  },
  {
   "cell_type": "code",
   "execution_count": null,
   "metadata": {},
   "outputs": [],
   "source": []
  },
  {
   "cell_type": "code",
   "execution_count": null,
   "metadata": {},
   "outputs": [],
   "source": []
  },
  {
   "cell_type": "code",
   "execution_count": null,
   "metadata": {},
   "outputs": [],
   "source": []
  }
 ],
 "metadata": {
  "kernelspec": {
   "display_name": "Python 3",
   "language": "python",
   "name": "python3"
  },
  "language_info": {
   "codemirror_mode": {
    "name": "ipython",
    "version": 3
   },
   "file_extension": ".py",
   "mimetype": "text/x-python",
   "name": "python",
   "nbconvert_exporter": "python",
   "pygments_lexer": "ipython3",
   "version": "3.7.4"
  }
 },
 "nbformat": 4,
 "nbformat_minor": 4
}
