{
 "cells": [
  {
   "cell_type": "code",
   "execution_count": null,
   "metadata": {},
   "outputs": [],
   "source": [
    "#in His Name"
   ]
  },
  {
   "cell_type": "markdown",
   "metadata": {},
   "source": [
    "# اضافه کردن کتاب‌خانه‌های مورد نیاز"
   ]
  },
  {
   "cell_type": "markdown",
   "metadata": {},
   "source": [
    "در صورتیکه کتاب‌خانه‌ها را تاکنون نصب نکرده‌اید، به کمک دستورات زیر این کتاب‌خانه‌ها را اضافه نمایید"
   ]
  },
  {
   "cell_type": "code",
   "execution_count": null,
   "metadata": {},
   "outputs": [],
   "source": [
    "!pip install pandas\n",
    "!pip install numpy\n",
    "!pip install matplotlib"
   ]
  },
  {
   "cell_type": "code",
   "execution_count": null,
   "metadata": {},
   "outputs": [],
   "source": [
    "import pandas as pd\n",
    "import numpy as np\n",
    "import matplotlib.pyplot as plt"
   ]
  },
  {
   "cell_type": "markdown",
   "metadata": {},
   "source": [
    "ابتدا فایل\n",
    "`undernourishment.csv`\n",
    "که همراه با این نوت‌بوک دانلود کرده‌اید را به وسیله‌ی کتابخانه\n",
    "`pandas`\n",
    "می‌خوانیم"
   ]
  },
  {
   "cell_type": "code",
   "execution_count": null,
   "metadata": {},
   "outputs": [],
   "source": [
    "data = pd.read_csv('undernourishment.csv')"
   ]
  },
  {
   "cell_type": "markdown",
   "metadata": {},
   "source": [
    "این مجموعه داده شامل شاخص سوءتغذیه مناطق مختلف جهان برای شانزده سال متوالی است "
   ]
  },
  {
   "cell_type": "code",
   "execution_count": null,
   "metadata": {},
   "outputs": [],
   "source": [
    "regions = np.unique(data['Entity'])\n",
    "print(regions)"
   ]
  },
  {
   "cell_type": "markdown",
   "metadata": {},
   "source": [
    "به کمک تابع زیر سری زمانی شاخص سوءتغذیه را برای مناطق مختلف جهان رسم می‌کنید"
   ]
  },
  {
   "cell_type": "code",
   "execution_count": null,
   "metadata": {},
   "outputs": [],
   "source": [
    "def plot(regions):\n",
    "    fig, ax = plt.subplots(figsize=(14,8))\n",
    "    for region in regions:\n",
    "        region_data = data[data['Entity'] == region]\n",
    "        line, = ax.plot(region_data['Year'], region_data['index'], marker='o')\n",
    "        line.set_label(region)\n",
    "    ax.legend()"
   ]
  },
  {
   "cell_type": "code",
   "execution_count": null,
   "metadata": {},
   "outputs": [],
   "source": [
    "plot(regions)"
   ]
  },
  {
   "cell_type": "markdown",
   "metadata": {},
   "source": [
    "# آفریقا"
   ]
  },
  {
   "cell_type": "markdown",
   "metadata": {},
   "source": [
    "از این قسمت به بعد روی داده قاره آفریقا متمرکز خواهیم شد"
   ]
  },
  {
   "cell_type": "code",
   "execution_count": null,
   "metadata": {},
   "outputs": [],
   "source": [
    "Africa = pd.read_csv('Africa_data.csv')"
   ]
  },
  {
   "cell_type": "markdown",
   "metadata": {},
   "source": [
    " این داده شامل نام و طول و عرض جغرافیایی و شاخص سوءتغذیه در یکسال مشخص کشور های آفریقایی است "
   ]
  },
  {
   "cell_type": "markdown",
   "metadata": {},
   "source": [
    "در این قسمت به کمک کد آماده داده را روی نقشه قاره آفریقا رسم می‌کنیم"
   ]
  },
  {
   "cell_type": "markdown",
   "metadata": {},
   "source": [
    "کد آماده از آدرس زیر برداشته شده است"
   ]
  },
  {
   "cell_type": "markdown",
   "metadata": {},
   "source": [
    "https://github.com/tomasrasymas/geo-heatmap"
   ]
  },
  {
   "cell_type": "markdown",
   "metadata": {},
   "source": [
    "ممکن است برای اجرای کد آماده نیاز به نصب کتاب‌خانه‌های جدیدی داشته باشید"
   ]
  },
  {
   "cell_type": "code",
   "execution_count": null,
   "metadata": {},
   "outputs": [],
   "source": [
    "!pip install folium"
   ]
  },
  {
   "cell_type": "code",
   "execution_count": null,
   "metadata": {},
   "outputs": [],
   "source": [
    "heatmap = pd.DataFrame()\n",
    "heatmap['name'] = Africa['Country']\n",
    "heatmap['lat'] = Africa['Latitude']\n",
    "heatmap['lon'] = Africa['Longitude']\n",
    "heatmap['magnitude'] = Africa['index']"
   ]
  },
  {
   "cell_type": "code",
   "execution_count": null,
   "metadata": {},
   "outputs": [],
   "source": [
    "heatmap.to_csv('heatmap.csv', index=False, sep=';')"
   ]
  },
  {
   "cell_type": "code",
   "execution_count": null,
   "metadata": {},
   "outputs": [],
   "source": [
    "from IPython.display import IFrame\n",
    "!python geo_heatmap.py -hmmo 0.1 -hmr 30 -hmb 10\n",
    "IFrame(src='geo_heatmap.html', width=900, height=700)"
   ]
  },
  {
   "cell_type": "code",
   "execution_count": null,
   "metadata": {},
   "outputs": [],
   "source": []
  },
  {
   "cell_type": "code",
   "execution_count": null,
   "metadata": {},
   "outputs": [],
   "source": []
  },
  {
   "cell_type": "code",
   "execution_count": null,
   "metadata": {},
   "outputs": [],
   "source": []
  },
  {
   "cell_type": "markdown",
   "metadata": {},
   "source": [
    "# نزدیکترین همسایه"
   ]
  },
  {
   "cell_type": "markdown",
   "metadata": {},
   "source": [
    "در این قسمت باید برازنده نزدیکترین همسایه را پیاده‌سازی کنید"
   ]
  },
  {
   "cell_type": "markdown",
   "metadata": {},
   "source": [
    "تابع زیر یک عرض و طول جغرافیایی و داده آموزش را دریافت کرده و شاخص سوءتغذیه نزدیکترین مکان به آن طول و عرض جغرافیایی را گزارش می‌کند.\n",
    "\n",
    "پس باید ابتدا فاصله نقطه داده شده را تا تک‌تک داده‌های آموزش حساب کرده و در نهایت شاخص سوءتغذیه نزدیکترین داده آموزش را گزارش نمایید"
   ]
  },
  {
   "cell_type": "markdown",
   "metadata": {},
   "source": [
    "برای محاسبه فاصله از این صفحه استفاده کنید"
   ]
  },
  {
   "cell_type": "markdown",
   "metadata": {},
   "source": [
    "https://stackoverflow.com/questions/19412462/getting-distance-between-two-points-based-on-latitude-longitude\n"
   ]
  },
  {
   "cell_type": "markdown",
   "metadata": {},
   "source": [
    "با استفاده از توابع \n",
    "`numpy`\n",
    "به جای\n",
    "`math`\n",
    "می‌توانید فاصله نقطه داده شده تا همه داده‌های آموزش را در یک خط کد حساب کنید"
   ]
  },
  {
   "cell_type": "markdown",
   "metadata": {},
   "source": [
    "فرمت داده آموزش و نام ستون‌های آن مانند داده \n",
    "`Africa_data.csv`\n",
    "می‌باشد"
   ]
  },
  {
   "cell_type": "code",
   "execution_count": null,
   "metadata": {},
   "outputs": [],
   "source": [
    "def one_near(latitude, longitude, train):\n",
    "    pass"
   ]
  },
  {
   "cell_type": "markdown",
   "metadata": {},
   "source": [
    "در این قسمت نتیجه تابع خود را روی چندین نقطه از نقشه مشاهده می‌کنید"
   ]
  },
  {
   "cell_type": "code",
   "execution_count": null,
   "metadata": {
    "scrolled": true
   },
   "outputs": [],
   "source": [
    "heatmap = pd.DataFrame(columns=['name', 'lat', 'lon', 'magnitude'])\n",
    "\n",
    "Latitudes = np.linspace(min(Africa['Latitude']), max(Africa['Latitude']), num=20)\n",
    "Longitudes = np.linspace(min(Africa['Longitude']), max(Africa['Longitude']), num=20)\n",
    "\n",
    "i = 0\n",
    "for latitude in Latitudes:\n",
    "    for longitude in Longitudes:\n",
    "        magnitude = one_near(latitude, longitude, Africa)\n",
    "        heatmap.loc[i] = ['name' + str(i)] + list([latitude, longitude, magnitude])\n",
    "        i += 1\n",
    "\n",
    "heatmap.to_csv('heatmap.csv', index=False, sep=';')\n",
    "\n",
    "from IPython.display import IFrame\n",
    "!python geo_heatmap.py -hmmo 0.1 -hmr 30 -hmb 10 -mzs 3\n",
    "IFrame(src='geo_heatmap.html', width=900, height=700)"
   ]
  },
  {
   "cell_type": "markdown",
   "metadata": {},
   "source": [
    "داده را به دو قسمت آموزش و آزمون تقسیم کرده و خطای مربعات را حساب نمایید"
   ]
  },
  {
   "cell_type": "markdown",
   "metadata": {},
   "source": [
    "# برازنده خطی"
   ]
  },
  {
   "cell_type": "markdown",
   "metadata": {},
   "source": [
    "داده را به دو قسمت آموزش و آزمون تقسیم کرده و از برازنده خطی استفاده نمایید. در نهایت خطای مربعات را حساب کنید"
   ]
  },
  {
   "cell_type": "markdown",
   "metadata": {},
   "source": [
    "# جنگل تصادفی"
   ]
  },
  {
   "cell_type": "markdown",
   "metadata": {},
   "source": [
    "شاخص سوء تغذیه را به نزدیکترین مضرب ده گرد کرده و بر ده تقسیم کنید\n",
    "حال با برچسب به دست آمده به مثابه یک مسئله دسته‌بندی برخورد کرده و از روش جنگل تصادفی استفاده کنید و در نهایت برچسب پیش بینی شده را در ده ضرب و خطای مربعات را حساب نمایید   "
   ]
  },
  {
   "cell_type": "markdown",
   "metadata": {},
   "source": [
    "نتیجه مدل جنگل تصادفی را می‌توانید با قطعه کد زیر بر روی نقشه مشاهده کنید "
   ]
  },
  {
   "cell_type": "code",
   "execution_count": null,
   "metadata": {},
   "outputs": [],
   "source": [
    "heatmap = pd.DataFrame(columns=['name', 'lat', 'lon', 'magnitude'])\n",
    "\n",
    "Latitudes = np.linspace(min(Africa['Latitude']), max(Africa['Latitude']), num=20)\n",
    "Longitudes = np.linspace(min(Africa['Longitude']), max(Africa['Longitude']), num=20)\n",
    "\n",
    "i = 0\n",
    "for latitude in Latitudes:\n",
    "    for longitude in Longitudes:\n",
    "        magnitude = 10*model.predict([[latitude, longitude]])[0]\n",
    "        heatmap.loc[i] = ['name' + str(i)] + list([latitude, longitude, magnitude])\n",
    "        i += 1\n",
    "\n",
    "heatmap.to_csv('heatmap.csv', index=False, sep=';')\n",
    "\n",
    "from IPython.display import IFrame\n",
    "!python geo_heatmap.py -hmmo 0.1 -hmr 30 -hmb 10 -mzs 3\n",
    "IFrame(src='geo_heatmap.html', width=900, height=700)"
   ]
  },
  {
   "cell_type": "markdown",
   "metadata": {},
   "source": [
    "در نهایت از بین روش‌های فوق‌الذکر و هر روش دیگری که به ذهنتان می‌رسد تابع برازنده‌ای پیاده کنید که عرض و طول \n",
    "جغرافیایی گرفته و شاخص سوءتغذیه را به عنوان خروجی تحویل دهد\n"
   ]
  },
  {
   "cell_type": "markdown",
   "metadata": {},
   "source": [
    "مجموع خطای مربعات تابع شما روی داده آزمونی که در اختیارتان قرار نگرفته باید از حد مشخصی کمتر شود تا امتیاز سوال را دریافت کنید "
   ]
  },
  {
   "cell_type": "markdown",
   "metadata": {},
   "source": [
    "این تابع را در فایل `functions.py` وارد کرده، ذخیره کنید و ارسال پاسخ را انتخاب نمایید \n",
    "\n",
    "اضافه کردن کتابخانه‌های لازم را فراموش نکنید\n",
    "\n",
    "برای اینکه به مدل‌های کتابخانه `sklearn` \n",
    "تک داده به عنوان ورودی دهید به این ترتیب عمل کنید تا با خطا روبرو نشوید\n",
    "\n",
    "```model.predict([[latitude, longitude]])```"
   ]
  },
  {
   "cell_type": "markdown",
   "metadata": {},
   "source": [
    "نتیجه این سوال لزوما نشان‌دهنده‌ی ارتباط مکان جغرافیایی و شاخص سوء تغذیه نمی‌باشد"
   ]
  },
  {
   "cell_type": "code",
   "execution_count": null,
   "metadata": {},
   "outputs": [],
   "source": []
  }
 ],
 "metadata": {
  "kernelspec": {
   "display_name": "Python 3",
   "language": "python",
   "name": "python3"
  },
  "language_info": {
   "codemirror_mode": {
    "name": "ipython",
    "version": 3
   },
   "file_extension": ".py",
   "mimetype": "text/x-python",
   "name": "python",
   "nbconvert_exporter": "python",
   "pygments_lexer": "ipython3",
   "version": "3.7.4"
  }
 },
 "nbformat": 4,
 "nbformat_minor": 4
}
