{
 "cells": [
  {
   "cell_type": "code",
   "execution_count": null,
   "metadata": {},
   "outputs": [],
   "source": [
    "from IPython.core.display import HTML\n",
    "HTML(\"<style>.jp-RenderedMarkdown{display:flex;flex-direction:column;font-family:'IRANSans,Tahoma,Helvetica,sans-serif';margin-top:10px;font-size:1rem;direction:rtl}mark{color: inherit;padding:2px; background-color:#88888888}</style>\")"
   ]
  },
  {
   "cell_type": "markdown",
   "metadata": {},
   "source": [
    "<div>\n",
    "    <h2>دسته‌بند مناسب </h2>\n",
    "    <br> \n",
    "    ابتدا کتابخانه‌های مورد نیاز را بارگزاری کنید\n",
    "    </div>"
   ]
  },
  {
   "cell_type": "code",
   "execution_count": null,
   "metadata": {},
   "outputs": [],
   "source": [
    "import numpy as np\n",
    "from sklearn import datasets\n",
    "import matplotlib.pyplot as plt\n",
    "import seaborn as sns"
   ]
  },
  {
   "cell_type": "markdown",
   "metadata": {},
   "source": [
    "<div>\n",
    " ابتدا داده‌های مربوطه را بارگذاری می‌کنیم.\n",
    "    </div>"
   ]
  },
  {
   "cell_type": "code",
   "execution_count": null,
   "metadata": {},
   "outputs": [],
   "source": [
    "uci_hand = datasets.load_digits()"
   ]
  },
  {
   "cell_type": "markdown",
   "metadata": {},
   "source": [
    "<div>\n",
    "می‌توانید با بررسی کردن داده‌ها بخش‌های مختلف آن را مورد ارزیابی قرار دهید. برای مثال می‌توانید چند عکس آن را نمایش دهید.\n",
    "    </div>"
   ]
  },
  {
   "cell_type": "code",
   "execution_count": null,
   "metadata": {},
   "outputs": [],
   "source": [
    "images = uci_hand['images']\n",
    "X = uci_hand[\"data\"]\n",
    "y = uci_hand['target']\n",
    "num_classes = len(np.unique(y))\n",
    "plt.imshow(images[0])\n",
    "print('Number is:', y[0])"
   ]
  },
  {
   "cell_type": "markdown",
   "metadata": {},
   "source": [
    "<div>\n",
    "    همانطور که در فصول قبل گفته شد یکی از راه‌های موثر در شناخت نحوه توزیع ویژگی‌ها در بحث انتخاب ویژگی\n",
    "     (feature selection) یا استخراج ویژگی‌ها\n",
    "    (feature extraction)،\n",
    "     استفاده از روش‌های تصویرسازی است. باتوجه به بالا بودن ابعاد ویژگی‌های داده‌های تصویری نمایش توزیع ویژگی‌ها به سادگی امکانپذیر نمی‌باشد. رایج ترین روش موجود برای حل این مشکل استفاده از روش‌های کاهش بعد می‌باشد.\n",
    "    <br>\n",
    "    اکنون برای نمونه سعی می‌کنیم به روش PCA \n",
    "    مجموعه داده‌های این تمرین را مورد بررسی قرار دهیم\n",
    "</div>"
   ]
  },
  {
   "cell_type": "code",
   "execution_count": null,
   "metadata": {},
   "outputs": [],
   "source": [
    "from sklearn.decomposition import PCA\n",
    "pca = PCA(n_components=4)\n",
    "pca_result = pca.fit_transform(X)\n"
   ]
  },
  {
   "cell_type": "markdown",
   "metadata": {},
   "source": [
    "<div>\n",
    "    اکنون میتوان بررسی کرد عملکرد PCA\n",
    "    در مورد این مجموعه داده چگونه بوده است بدین منظور با استفاده از دستور زیر بررسی میکنیم مجموعه داده کاهش یافته چه میزان از اطلاعات مجموعه ابتدایی را با خود به همراه دارد یا به عبارت دیگر هر کدام از عناصر جدید چه میزان از مجموعه اولی را تفسیر می‌کنند\n",
    "<br>\n",
    "    همانطور که مشاهده می‌شود این مجموعه ۴۸ درصد از داده مجموعه اول را به همراه دارد\n",
    "</div>"
   ]
  },
  {
   "cell_type": "code",
   "execution_count": null,
   "metadata": {},
   "outputs": [],
   "source": [
    "print(pca.explained_variance_ratio_)\n",
    "np.sum(pca.explained_variance_ratio_)"
   ]
  },
  {
   "cell_type": "markdown",
   "metadata": {},
   "source": [
    "<div>\n",
    "    اکنون سعی با استفاده از تابع draw_scatter\n",
    "     که در ادامه تعریف کردیم این خروجی را نمایش می‌دهیم\n",
    "    </div>"
   ]
  },
  {
   "cell_type": "code",
   "execution_count": null,
   "metadata": {},
   "outputs": [],
   "source": [
    "%matplotlib inline\n",
    "from mpl_toolkits.mplot3d import Axes3D\n",
    "import matplotlib.patheffects as PathEffects\n",
    "\n",
    "def draw_scatter(x, y):\n",
    "\n",
    "\n",
    "    palette = np.array(sns.color_palette(\"hls\", num_classes))\n",
    "    \n",
    "    \n",
    "    f = plt.figure(figsize=(16,16))\n",
    "    #3d scatter plot that contains 40% of our first dataset\n",
    "    ax3d = f.add_subplot(211,projection='3d')\n",
    "    #2d scatter plot can be easily seen and contains about 30% of our first dataset\n",
    "    ax2d = f.add_subplot(212,aspect='equal')\n",
    "    ax3d.scatter(x[0], x[1],x[2], lw=0, s=40, c=palette[y.astype(np.int)])\n",
    "    sc = ax2d.scatter(x[0], x[1], lw=0, s=40, c=palette[y.astype(np.int)])\n",
    "    \n",
    "\n",
    "    # add the labels for each digit corresponding to the label\n",
    "\n",
    "    for i in range(num_classes):\n",
    "\n",
    "        # Position of each label at median of data points.\n",
    "\n",
    "        xtext, ytext,ztext = [np.median(x[j][y == i]) for j in range(3)]\n",
    "        \n",
    "        text = ax2d.text(xtext, ytext, str(i), fontsize=24)\n",
    "        text.set_path_effects([\n",
    "            PathEffects.Stroke(linewidth=5, foreground=\"w\"),\n",
    "            PathEffects.Normal()])\n",
    "        text2 = ax3d.text(xtext, ytext,ztext, str(i), fontsize=24)\n",
    "        text2.set_path_effects([\n",
    "            PathEffects.Stroke(linewidth=5, foreground=\"w\"),\n",
    "            PathEffects.Normal()])\n",
    "        \n"
   ]
  },
  {
   "cell_type": "code",
   "execution_count": null,
   "metadata": {},
   "outputs": [],
   "source": [
    "y_pca = uci_hand['target']\n",
    "X_pca = np.array((pca_result[:,0],pca_result[:,1],pca_result[:,2]))\n",
    "draw_scatter(X_pca,y_pca)"
   ]
  },
  {
   "cell_type": "markdown",
   "metadata": {},
   "source": [
    "<div>\n",
    "    اکنون همان کاری که در مرحله قبل با استفاده از PCA\n",
    "    انجام دادیم، با استفاده از tsne\n",
    "    انجام می‌دهیم.\n",
    "    <br>\n",
    "    همانطور که آموختید این الگوریتم در واقع کاری مشابه با PCA \n",
    "    انجام می‌دهد اما با یک دید آماری. این الگوریتم که بسیار جدیدتر می‌باشد، معمولا دقت بهتری دارد ولی زمان انجام فرآیند محاسباتی‌اش طولانی تر خواهد داشت\n",
    "    </div>"
   ]
  },
  {
   "cell_type": "code",
   "execution_count": null,
   "metadata": {},
   "outputs": [],
   "source": [
    "from sklearn.manifold import TSNE\n",
    "\n",
    "tsne = TSNE(n_components=2, random_state=0)\n",
    " \n",
    "X_2d = tsne.fit_transform(X)\n",
    " \n",
    "plt.figure(figsize=(16, 8))\n",
    "colors = 'aqua', 'azure', 'coral', 'gold', 'green', 'fuchsia', 'maroon', 'purple', 'red', 'orange'\n",
    "for i, c, label in zip(range(num_classes), colors, uci_hand.target_names):\n",
    "    plt.scatter(X_2d[y == i, 0], X_2d[y == i, 1], c=c, label=label)\n",
    "plt.legend()\n",
    "plt.show()"
   ]
  },
  {
   "cell_type": "markdown",
   "metadata": {},
   "source": [
    "<div>\n",
    "     در ادامه قصد داریم از بین مدل‌های دسته بندی که تا کنون آموختیم بهترین مدل را برای این مسئله انتخاب کنیم. برای تست و یافتن مدل بهتر از روش  \n",
    "    KFold \n",
    "     استفاده کنید.\n",
    "    <br>\n",
    "    شما باید تابع \n",
    "    kfold_accuracies\n",
    "    را به گونه‌ای تکمیل کنید که ابتدا داده‌ها را به ۵ دسته تقسیم می‌کند و سپس به ازای هر کدام مدل انتخابی را روی داده‌های آموزش \n",
    "    fit می‌کند و پارامتر \n",
    "    accuracy را محاسبه می‌کند و در یک ماتریس اضافه می‌کند و در نهایت ماتریس \n",
    " را بر می‌گرداند\n",
    "    </div>"
   ]
  },
  {
   "cell_type": "code",
   "execution_count": null,
   "metadata": {},
   "outputs": [],
   "source": [
    "from sklearn.model_selection import KFold\n",
    "\n",
    "def kfold_accuracies(model,X,y):\n",
    "    ##TODO\n",
    "    "
   ]
  },
  {
   "cell_type": "markdown",
   "metadata": {},
   "source": [
    "<div>\n",
    "    با استفاده از سلول زیر تست  ساده کنید که آیا تابع kfold_accuracies \n",
    "    که نوشتید به طور کلی عملکرد صحیحی دارد \n",
    "    </div>"
   ]
  },
  {
   "cell_type": "code",
   "execution_count": null,
   "metadata": {},
   "outputs": [],
   "source": [
    "from sklearn.datasets import load_iris\n",
    "from sklearn.dummy import DummyClassifier\n",
    "\n",
    "iris = load_iris()\n",
    "accs = kfold_accuracies(DummyClassifier(),iris['data'],iris[\"target\"])\n",
    "assert float(accs[0])"
   ]
  },
  {
   "cell_type": "markdown",
   "metadata": {},
   "source": [
    "<div>\n",
    "در این مرحله شما می‌بایست با کمک تابعی که در مرحله قبل پیاده‌سازی کردید دسته‌بند مورد نظر خود برای این کار را انتخاب کنید.\n",
    "    پس از انتخاب نهایی دسته‌بند‌ مناسب در تابع \n",
    "    <mark>create_classifier</mark>\n",
    "    یک نمونه از آن ساخته و برگردانید\n",
    "    </div>"
   ]
  },
  {
   "cell_type": "code",
   "execution_count": null,
   "metadata": {},
   "outputs": [],
   "source": [
    "\n",
    "def create_classifier():\n",
    "    ##TODO\n",
    "\n"
   ]
  },
  {
   "cell_type": "markdown",
   "metadata": {},
   "source": [
    "<div>\n",
    "     همانطور که در انتهای فصل دسته بندی گفته شد معیار‌های دیگری نیز برای بررسی صحت مدل وجود دارد که در بعضی مواقع این معیار‌ها از دقت \n",
    "    (accuracy)\n",
    "    اهمیت بیشتری پیدا می‌کند.\n",
    "    <br>\n",
    "    با اجرای سلول زیر معیار دیگری از صحت مدل خود را می‌توانید مشاهده کنید\n",
    "    </div>"
   ]
  },
  {
   "cell_type": "code",
   "execution_count": null,
   "metadata": {},
   "outputs": [],
   "source": [
    "from sklearn.metrics import classification_report, confusion_matrix\n",
    "from sklearn.model_selection import train_test_split\n",
    "\n",
    "x_train, x_test, y_train, y_test = train_test_split(X,y,test_size=0.3,random_state=45)\n",
    "\n",
    "model = create_classifier()\n",
    "model.fit(x_train,y_train)\n",
    "\n",
    "predict = model.predict(x_test)\n",
    "print(\"Evaluation\")\n",
    "print(classification_report(y_test, predict))\n",
    "\n",
    "print (\"Confusion matrix\")\n",
    "print(confusion_matrix(y_test, predict))"
   ]
  },
  {
   "cell_type": "markdown",
   "metadata": {},
   "source": [
    "<div>\n",
    "در این تمرین از شما انتظار می‌رود تا به  میانگین دقت \n",
    "    <mark>96</mark>\n",
    "    درصد و بالاتر از آن برسید.\n",
    "    </div"
   ]
  },
  {
   "cell_type": "code",
   "execution_count": null,
   "metadata": {},
   "outputs": [],
   "source": [
    "assert np.mean(kfold_accuracies(create_classifier(),X,y))>0.96"
   ]
  },
  {
   "cell_type": "markdown",
   "metadata": {},
   "source": [
    "<div>\n",
    "    پس از ذخیره کردن نوت‌بوک و قرار دادن دو تابع \n",
    "    <mark>kfold_accuracies</mark>\n",
    "    و\n",
    "    <mark>create_classifier</mark>\n",
    "    در \n",
    "    <mark>functions.py</mark>\n",
    "    ارسال پاسخ را انتخاب کنید.\n",
    "    </div>"
   ]
  },
  {
   "cell_type": "code",
   "execution_count": null,
   "metadata": {},
   "outputs": [],
   "source": []
  }
 ],
 "metadata": {
  "kernelspec": {
   "display_name": "Python 3",
   "language": "python",
   "name": "python3"
  },
  "language_info": {
   "codemirror_mode": {
    "name": "ipython",
    "version": 3
   },
   "file_extension": ".py",
   "mimetype": "text/x-python",
   "name": "python",
   "nbconvert_exporter": "python",
   "pygments_lexer": "ipython3",
   "version": "3.7.4"
  }
 },
 "nbformat": 4,
 "nbformat_minor": 4
}
