{
 "cells": [
  {
   "cell_type": "code",
   "execution_count": null,
   "metadata": {
    "ExecuteTime": {
     "end_time": "2019-11-11T18:15:10.353950Z",
     "start_time": "2019-11-11T18:15:06.893396Z"
    }
   },
   "outputs": [],
   "source": [
    "import pandas as pd\n",
    "import numpy as np\n",
    "import matplotlib.pyplot as plt\n",
    "import seaborn as sns"
   ]
  },
  {
   "cell_type": "code",
   "execution_count": null,
   "metadata": {
    "ExecuteTime": {
     "end_time": "2019-11-11T18:15:20.533963Z",
     "start_time": "2019-11-11T18:15:20.022129Z"
    }
   },
   "outputs": [],
   "source": [
    "data = pd.read_csv('fifa.csv')\n",
    "data.head()"
   ]
  },
  {
   "cell_type": "code",
   "execution_count": null,
   "metadata": {
    "ExecuteTime": {
     "end_time": "2019-11-11T18:15:23.165773Z",
     "start_time": "2019-11-11T18:15:23.159899Z"
    }
   },
   "outputs": [],
   "source": [
    "data.columns"
   ]
  },
  {
   "cell_type": "markdown",
   "metadata": {},
   "source": [
    "# پیش‌پردازش"
   ]
  },
  {
   "cell_type": "markdown",
   "metadata": {},
   "source": [
    "<div dir=\"rtl\">  \n",
    "در اینجا ویژگی‌هایی که به نظر می‌رسد در ادامه استفاده می‌شود را انتخاب کنید.\n",
    "توجه کنید که می‌بایست _Overall_ و  _Position_ در آن‌ها باشد.\n",
    "<div>"
   ]
  },
  {
   "cell_type": "code",
   "execution_count": null,
   "metadata": {
    "ExecuteTime": {
     "end_time": "2019-11-11T12:14:18.214812Z",
     "start_time": "2019-11-11T12:14:18.209737Z"
    }
   },
   "outputs": [],
   "source": [
    "def get_properties(df):\n",
    "    # TODO\n",
    "    pass"
   ]
  },
  {
   "cell_type": "code",
   "execution_count": null,
   "metadata": {
    "ExecuteTime": {
     "end_time": "2019-11-11T12:14:19.729164Z",
     "start_time": "2019-11-11T12:14:19.672475Z"
    }
   },
   "outputs": [],
   "source": [
    "props = get_properties()\n",
    "\n",
    "df = data[props].dropna()\n",
    "df.count()"
   ]
  },
  {
   "cell_type": "markdown",
   "metadata": {},
   "source": [
    "# پیش‌بینی کارایی کلی بازیکن"
   ]
  },
  {
   "cell_type": "markdown",
   "metadata": {},
   "source": [
    "<div dir=\"rtl\">  \n",
    "ابتدا ویژگی‌هایی که کارایی کلی بازیکن را تعیین می‌کنند، را انتخاب می‌کنید.\n",
    "</div>"
   ]
  },
  {
   "cell_type": "code",
   "execution_count": null,
   "metadata": {
    "ExecuteTime": {
     "end_time": "2019-11-11T13:24:37.236403Z",
     "start_time": "2019-11-11T13:24:37.233246Z"
    }
   },
   "outputs": [],
   "source": [
    "def get_reg_properties(df):\n",
    "    # TODO\n",
    "    pass"
   ]
  },
  {
   "cell_type": "code",
   "execution_count": null,
   "metadata": {
    "ExecuteTime": {
     "end_time": "2019-11-11T12:14:23.975387Z",
     "start_time": "2019-11-11T12:14:23.972031Z"
    }
   },
   "outputs": [],
   "source": [
    "reg_prop = get_reg_properties()"
   ]
  },
  {
   "cell_type": "code",
   "execution_count": null,
   "metadata": {
    "ExecuteTime": {
     "end_time": "2019-11-11T12:14:24.852880Z",
     "start_time": "2019-11-11T12:14:24.845060Z"
    }
   },
   "outputs": [],
   "source": [
    "X = df[reg_prop]\n",
    "y = df[\"Overall\"]"
   ]
  },
  {
   "cell_type": "markdown",
   "metadata": {},
   "source": [
    "<div dir=\"rtl\">  \n",
    "داده‌ها را به دسته‌های آموزش و آزمون جداسازی می‌کنیم و در متغیرهای مربوطه می‌ریزیم.\n",
    "</div>"
   ]
  },
  {
   "cell_type": "code",
   "execution_count": null,
   "metadata": {
    "ExecuteTime": {
     "end_time": "2019-11-11T13:25:34.580824Z",
     "start_time": "2019-11-11T13:25:34.577975Z"
    }
   },
   "outputs": [],
   "source": [
    "# TODO"
   ]
  },
  {
   "cell_type": "code",
   "execution_count": null,
   "metadata": {
    "ExecuteTime": {
     "end_time": "2019-11-11T12:14:27.826827Z",
     "start_time": "2019-11-11T12:14:27.607691Z"
    }
   },
   "outputs": [],
   "source": [
    "from sklearn.linear_model import LinearRegression\n",
    "lm = LinearRegression()\n",
    "lm.fit(X_train, y_train)"
   ]
  },
  {
   "cell_type": "code",
   "execution_count": null,
   "metadata": {
    "ExecuteTime": {
     "end_time": "2019-11-11T12:14:29.371533Z",
     "start_time": "2019-11-11T12:14:29.361826Z"
    }
   },
   "outputs": [],
   "source": [
    "lm.score(X_train, y_train)"
   ]
  },
  {
   "cell_type": "code",
   "execution_count": null,
   "metadata": {
    "ExecuteTime": {
     "end_time": "2019-11-11T12:14:30.406235Z",
     "start_time": "2019-11-11T12:14:30.397187Z"
    }
   },
   "outputs": [],
   "source": [
    "predictions = lm.predict(X_test)\n",
    "lm.score(X_test, y_test)"
   ]
  },
  {
   "cell_type": "code",
   "execution_count": null,
   "metadata": {
    "ExecuteTime": {
     "end_time": "2019-11-11T12:14:51.878808Z",
     "start_time": "2019-11-11T12:14:51.796587Z"
    }
   },
   "outputs": [],
   "source": [
    "res = y_test - predictions"
   ]
  },
  {
   "cell_type": "code",
   "execution_count": null,
   "metadata": {
    "ExecuteTime": {
     "end_time": "2019-11-11T13:04:40.521606Z",
     "start_time": "2019-11-11T13:04:40.515060Z"
    }
   },
   "outputs": [],
   "source": [
    "from scipy.stats import shapiro\n",
    "\n",
    "stat, p = shapiro(res)"
   ]
  },
  {
   "cell_type": "code",
   "execution_count": null,
   "metadata": {
    "ExecuteTime": {
     "end_time": "2019-11-11T13:04:46.024258Z",
     "start_time": "2019-11-11T13:04:46.020522Z"
    }
   },
   "outputs": [],
   "source": [
    "assert p < 0.005"
   ]
  },
  {
   "cell_type": "markdown",
   "metadata": {},
   "source": [
    "# پیش‌بینی پست بازیکن"
   ]
  },
  {
   "cell_type": "markdown",
   "metadata": {
    "ExecuteTime": {
     "end_time": "2019-11-11T13:26:55.024422Z",
     "start_time": "2019-11-11T13:26:55.019019Z"
    }
   },
   "source": [
    "<div dir=\"rtl\">  \n",
    "ابتدا ویژگی‌هایی که برای دسته‌بندی لازم است را انتخاب می‌کنید.\n",
    "</div>"
   ]
  },
  {
   "cell_type": "code",
   "execution_count": null,
   "metadata": {
    "ExecuteTime": {
     "end_time": "2019-11-11T13:27:06.842898Z",
     "start_time": "2019-11-11T13:27:06.839624Z"
    }
   },
   "outputs": [],
   "source": [
    "def get_cls_properties():\n",
    "    # TODO\n",
    "    pass"
   ]
  },
  {
   "cell_type": "code",
   "execution_count": null,
   "metadata": {
    "ExecuteTime": {
     "end_time": "2019-11-11T12:15:32.704276Z",
     "start_time": "2019-11-11T12:15:32.700131Z"
    }
   },
   "outputs": [],
   "source": [
    "cls_prop = get_cls_properties()"
   ]
  },
  {
   "cell_type": "code",
   "execution_count": null,
   "metadata": {
    "ExecuteTime": {
     "end_time": "2019-11-11T12:15:36.054927Z",
     "start_time": "2019-11-11T12:15:36.047257Z"
    }
   },
   "outputs": [],
   "source": [
    "# function which changes position from goolkeeper to 1, defender to 2, midfielder to 3, striker to 4.\n",
    "def simplify(col):\n",
    "    if (col == 'GK'):\n",
    "        return 1\n",
    "    elif ((col == 'RB') | (col == 'LB') | (col == 'CB') | (col == 'LCB') | (col == 'RCB') | (col == 'RWB') | (col == 'LWB') ):\n",
    "        return 2\n",
    "    elif ((col == 'LDM') | (col == 'CDM') | (col == 'RDM') | (col == 'LM') | (col == 'LCM') | \n",
    "          (col == 'CM') | (col == 'RCM') | (col == 'RM') | (col == 'LAM') | (col == 'CAM') | \n",
    "          (col == 'RAM') | (col == 'LW') | (col == 'RW')):\n",
    "        return 3\n",
    "    elif ((col == 'RS') | (col == 'ST') | (col == 'LS') | (col == 'CF') | (col == 'LF') | (col == 'RF')):\n",
    "        return 4\n",
    "    else:\n",
    "        return 'error'"
   ]
  },
  {
   "cell_type": "code",
   "execution_count": null,
   "metadata": {
    "ExecuteTime": {
     "end_time": "2019-11-11T12:15:38.260158Z",
     "start_time": "2019-11-11T12:15:38.236425Z"
    }
   },
   "outputs": [],
   "source": [
    "X = df[cls_prop]\n",
    "y = df[\"Position\"].apply(simplify)"
   ]
  },
  {
   "cell_type": "markdown",
   "metadata": {},
   "source": [
    "<div dir=\"rtl\">  \n",
    "در اینجا پیش از برازش دسته‌بند، داده‌ها را نرمال می‌کنیم.\n",
    "</div>"
   ]
  },
  {
   "cell_type": "code",
   "execution_count": null,
   "metadata": {
    "ExecuteTime": {
     "end_time": "2019-11-11T12:15:39.594949Z",
     "start_time": "2019-11-11T12:15:39.553565Z"
    }
   },
   "outputs": [],
   "source": [
    "from sklearn.preprocessing import StandardScaler\n",
    "scaler = StandardScaler()\n",
    "scaler.fit(X)\n",
    "XS = scaler.transform(X)\n",
    "X = pd.DataFrame(XS, columns=X.columns)"
   ]
  },
  {
   "cell_type": "markdown",
   "metadata": {},
   "source": [
    "<div dir=\"rtl\">  \n",
    "در این بخش داده‌ها را به دسته‌های آموزش  و آزمون جداسازی کنید و در متغیرهای با نام مناسب ذخیره کنید.\n",
    "<div>"
   ]
  },
  {
   "cell_type": "code",
   "execution_count": null,
   "metadata": {
    "ExecuteTime": {
     "end_time": "2019-11-11T13:36:49.438958Z",
     "start_time": "2019-11-11T13:36:49.435954Z"
    }
   },
   "outputs": [],
   "source": [
    "# TODO"
   ]
  },
  {
   "cell_type": "markdown",
   "metadata": {},
   "source": [
    "<div dir=\"rtl\">  \n",
    "در اینجا دسته‌بند مورد نظر خود را پیاده‌سازی کنید.\n",
    "</div>"
   ]
  },
  {
   "cell_type": "code",
   "execution_count": null,
   "metadata": {
    "ExecuteTime": {
     "end_time": "2019-11-11T13:35:37.116050Z",
     "start_time": "2019-11-11T13:35:37.112666Z"
    }
   },
   "outputs": [],
   "source": [
    "def get_classifier():\n",
    "    # TODO\n",
    "    pass\n",
    "model = get_classifier()"
   ]
  },
  {
   "cell_type": "code",
   "execution_count": null,
   "metadata": {
    "ExecuteTime": {
     "end_time": "2019-11-11T13:35:40.218454Z",
     "start_time": "2019-11-11T13:35:40.205927Z"
    }
   },
   "outputs": [],
   "source": [
    "pred = model.predict(X_test)"
   ]
  },
  {
   "cell_type": "code",
   "execution_count": null,
   "metadata": {
    "ExecuteTime": {
     "end_time": "2019-11-16T11:03:16.570230Z",
     "start_time": "2019-11-16T11:03:14.052407Z"
    }
   },
   "outputs": [],
   "source": [
    "from sklearn.metrics import classification_report, confusion_matrix\n",
    "print(confusion_matrix(y_test, pred))\n",
    "print(classification_report(y_test, pred, output_dict=True))"
   ]
  },
  {
   "cell_type": "markdown",
   "metadata": {},
   "source": [
    "<div dir=\"rtl\">  \n",
    "شما می‌بایست فایل‌های ایجاد شده را در یک فایل فشرده‌سازی‌شده قرار دهید سپس آن را ارسال کنید.\n",
    "<div>"
   ]
  },
  {
   "cell_type": "markdown",
   "metadata": {},
   "source": [
    "<div dir=\"rtl\">  \n",
    "توابعی که با #TODO مشخص شده‌اند را در فایل _functions.py_ وارد کنید. سپس کد زیر را اجرا کنید.\n",
    "</div>"
   ]
  },
  {
   "cell_type": "code",
   "execution_count": null,
   "metadata": {},
   "outputs": [],
   "source": []
  }
 ],
 "metadata": {
  "kernelspec": {
   "display_name": "Python 3",
   "language": "python",
   "name": "python3"
  },
  "language_info": {
   "codemirror_mode": {
    "name": "ipython",
    "version": 3
   },
   "file_extension": ".py",
   "mimetype": "text/x-python",
   "name": "python",
   "nbconvert_exporter": "python",
   "pygments_lexer": "ipython3",
   "version": "3.7.7"
  },
  "toc": {
   "base_numbering": 1,
   "nav_menu": {},
   "number_sections": true,
   "sideBar": true,
   "skip_h1_title": false,
   "title_cell": "Table of Contents",
   "title_sidebar": "Contents",
   "toc_cell": false,
   "toc_position": {},
   "toc_section_display": true,
   "toc_window_display": false
  }
 },
 "nbformat": 4,
 "nbformat_minor": 4
}
