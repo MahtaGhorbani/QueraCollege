{
 "cells": [
  {
   "cell_type": "markdown",
   "metadata": {},
   "source": [
    " در آغاز چون نیاز به توابع کتاب‌خانه‌ی `pandas` دارید، باید آن را `import` کنید."
   ]
  },
  {
   "cell_type": "code",
   "execution_count": null,
   "metadata": {
    "collapsed": false,
    "jupyter": {
     "outputs_hidden": false
    },
    "pycharm": {
     "name": "#%%\n"
    }
   },
   "outputs": [],
   "source": [
    "import pandas as pd"
   ]
  },
  {
   "cell_type": "markdown",
   "metadata": {},
   "source": [
    "ابتدا فایل\n",
    "`dates.csv`\n",
    "که در کنار این نوت‌بوک وجود دارد را به وسیله‌ی کتابخانه\n",
    "`pandas`\n",
    "بخوانید"
   ]
  },
  {
   "cell_type": "code",
   "execution_count": null,
   "metadata": {
    "collapsed": false,
    "jupyter": {
     "outputs_hidden": false
    },
    "pycharm": {
     "name": "#%%\n"
    }
   },
   "outputs": [],
   "source": []
  },
  {
   "cell_type": "markdown",
   "metadata": {},
   "source": [
    "می‌توانید با استفاده از متد\n",
    "`describe`\n",
    "خلاصه‌ای از اطلاعات هر ستون را ببینید."
   ]
  },
  {
   "cell_type": "code",
   "execution_count": null,
   "metadata": {
    "collapsed": false,
    "jupyter": {
     "outputs_hidden": false
    },
    "pycharm": {
     "name": "#%%\n"
    }
   },
   "outputs": [],
   "source": []
  },
  {
   "cell_type": "markdown",
   "metadata": {},
   "source": [
    "می‌توانید به وسیله‌ی متد \n",
    "`head`\n",
    "چند ردیف اول از داده را بخوانید"
   ]
  },
  {
   "cell_type": "code",
   "execution_count": null,
   "metadata": {
    "collapsed": false,
    "jupyter": {
     "outputs_hidden": false
    },
    "pycharm": {
     "name": "#%%\n"
    }
   },
   "outputs": [],
   "source": []
  },
  {
   "cell_type": "markdown",
   "metadata": {},
   "source": [
    "در`pandas` وقتی  نام ستونی در فایل `csv` ذکر نشده باشد، آن را به صورت `Unnamed: i` نام‌گذاری می‌کند که i نشان‌دهنده‌ی iمین ستون بدون نام است.\n",
    "\n",
    "اگر به کمک دستور `head` بخشی از داده را مشاهده کرده باشید، می‌بینید که یک ستون `Unnamed` در این داده وجود دارد.\n",
    "\n",
    "به کمک متد\n",
    "`drop`\n",
    "این ستون را حذف کنید.(دقت کنید که برای حذف ستون باید نام کامل آن را در `drop` بنویسید)"
   ]
  },
  {
   "cell_type": "code",
   "execution_count": null,
   "metadata": {
    "collapsed": false,
    "jupyter": {
     "outputs_hidden": false
    },
    "pycharm": {
     "name": "#%%\n"
    }
   },
   "outputs": [],
   "source": []
  },
  {
   "cell_type": "markdown",
   "metadata": {},
   "source": [
    "۵۰۰ ردیف اول داده را گرفته و در جای دیگری ذخیره کنید."
   ]
  },
  {
   "cell_type": "code",
   "execution_count": null,
   "metadata": {
    "collapsed": false,
    "jupyter": {
     "outputs_hidden": false
    },
    "pycharm": {
     "name": "#%%\n"
    }
   },
   "outputs": [],
   "source": []
  },
  {
   "cell_type": "markdown",
   "metadata": {},
   "source": [
    "مجموعه‌ی داده جدید را به وسیله متد \n",
    "`to_csv`\n",
    "در فایل\n",
    "`sample.csv`\n",
    "ذخیره کنید."
   ]
  },
  {
   "cell_type": "code",
   "execution_count": null,
   "metadata": {
    "collapsed": false,
    "jupyter": {
     "outputs_hidden": false
    },
    "pycharm": {
     "name": "#%%\n"
    }
   },
   "outputs": [],
   "source": []
  },
  {
   "cell_type": "markdown",
   "metadata": {},
   "source": [
    "بعد از ذخیره کردن نوت‌بوک، **ارسال پاسخ** را انتخاب کنید."
   ]
  }
 ],
 "metadata": {
  "kernelspec": {
   "display_name": "Python 3",
   "language": "python",
   "name": "python3"
  },
  "language_info": {
   "codemirror_mode": {
    "name": "ipython",
    "version": 3
   },
   "file_extension": ".py",
   "mimetype": "text/x-python",
   "name": "python",
   "nbconvert_exporter": "python",
   "pygments_lexer": "ipython3",
   "version": "3.7.5"
  },
  "pycharm": {
   "stem_cell": {
    "cell_type": "raw",
    "metadata": {
     "collapsed": false
    },
    "source": []
   }
  }
 },
 "nbformat": 4,
 "nbformat_minor": 4
}
