{
 "cells": [
  {
   "cell_type": "markdown",
   "metadata": {},
   "source": [
    "# استاد مهربان"
   ]
  },
  {
   "cell_type": "markdown",
   "metadata": {},
   "source": [
    "در این تمرین می‌خواهیم مقدمات کار با با این کتاب‌خانه را با هم تمرین کنیم."
   ]
  },
  {
   "cell_type": "markdown",
   "metadata": {},
   "source": [
    "آرایه زیر را که نمرات صد دانشجوی مختلف در درس ریاضی یک دانشگاه شریف است، در نظر بگیرید(داده‌ها واقعی نیستند):"
   ]
  },
  {
   "cell_type": "code",
   "execution_count": 1,
   "metadata": {},
   "outputs": [],
   "source": [
    "import numpy as np"
   ]
  },
  {
   "cell_type": "code",
   "execution_count": 2,
   "metadata": {},
   "outputs": [],
   "source": [
    "grades = np.array([ 3. , 17. ,  6.5,  0.5,  8. ,  6.5, 19. , 13.5,  2.5, 17. , 19. ,\n",
    "       19.5, 13. ,  0. ,  6. ,  0.5,  9.5, 13.5, 16. ,  2.5, 10.5,  8. ,\n",
    "       10. , 15.5,  7.5,  0. ,  1. , 10.5,  2. , 11. ,  3. , 14. ,  3.5,\n",
    "       18.5, 13. ,  1. , 14.5, 15. ,  1. , 15.5,  1.5,  2. ,  3.5,  6.5,\n",
    "        2.5, 14.5, 11.5,  8. ,  0. ,  5.5,  0.5, 20. ,  5. ,  0.5, 17.5,\n",
    "       17.5, 17.5, 15. ,  4.5, 17. , 18. , 10. ,  8.5, 14. , 18.5, 19.5,\n",
    "       16. ,  8.5,  0. ,  9.5,  6. ,  2. ,  5. ,  9.5,  4. ,  4. ,  1. ,\n",
    "        8. , 18.5, 18. , 15.5,  4.5,  1.5, 20. ,  0.5, 19. ,  4. ,  9.5,\n",
    "       13. , 10. ,  3.5,  1.5,  6.5,  0.5, 11.5, 17. , 13.5, 11.5, 13. ,\n",
    "       13. ])"
   ]
  },
  {
   "cell_type": "markdown",
   "metadata": {},
   "source": [
    "بعد از ثبت نمرات، استاد درس تصمیم می‌گیرد که به دانشجویان درس ارفاقی انجام دهد. به این صورت که(x نمره اصلی و y نمره با ارفاق شخص است.):\n",
    "\n",
    "۱. اگر نمره شخص کمتر از هفت است:\n",
    "\n",
    "$ y = 9 + \\frac{x}{10} $\n",
    "\n",
    "۲. اگر نمره او بیشتر یا مساوی هفت است:\n",
    "\n",
    "$ y =  -0.0047x^{2} + 0.9571x + 3.5333 $\n",
    "\n",
    "توجه کنید که بیشینه نمره بیست است. بنابراین اگر نمره‌ای بیشتر از بیست شود، همان بیست منظور می‌شود.\n",
    "\n",
    "(فرمول بالا برگرفته از فرمول به کار رفته برای درس ریاضی یک دانشگاه شریف در سال ۹۷ است.)\n",
    "\n",
    "نمرات جدید را حساب کنید و در همان آرایه نمرات ذخیره کنید.\n",
    "\n",
    "(راهنمایی: توجه کنید که نمره جدید همه اشخاصی که نمره اصلی‌شان کمتر از هفت بوده، از همه اشخاصی که نمره اصلی‌شان بیشتر از هفت بوده کمتر می‌شود. )"
   ]
  },
  {
   "cell_type": "code",
   "execution_count": 8,
   "metadata": {},
   "outputs": [],
   "source": [
    "for i in range(grades.size):\n",
    "    if grades[i]<7 :\n",
    "        grades[i]=9+(grades[i]/10)\n",
    "    else:\n",
    "        x=grades[i]\n",
    "        grades[i]=-(0.0047*x*x)+0.9571*x+3.5333\n",
    "    if grades[i]>20:\n",
    "        grades[i]=20"
   ]
  },
  {
   "cell_type": "markdown",
   "metadata": {},
   "source": [
    "حال می‌خواهیم از بین نمرات جدید، آن‌هایی را که بیشتر یا مساوی هفده شده‌اند، در آرایه زیر ذخیره کنیم:"
   ]
  },
  {
   "cell_type": "code",
   "execution_count": 10,
   "metadata": {},
   "outputs": [
    {
     "ename": "AttributeError",
     "evalue": "'numpy.ndarray' object has no attribute 'append'",
     "output_type": "error",
     "traceback": [
      "\u001b[1;31m---------------------------------------------------------------------------\u001b[0m",
      "\u001b[1;31mAttributeError\u001b[0m                            Traceback (most recent call last)",
      "\u001b[1;32m<ipython-input-10-4c0c9dd975fe>\u001b[0m in \u001b[0;36m<module>\u001b[1;34m\u001b[0m\n\u001b[0;32m      2\u001b[0m \u001b[1;32mfor\u001b[0m \u001b[0mi\u001b[0m \u001b[1;32min\u001b[0m \u001b[0mgrades\u001b[0m\u001b[1;33m:\u001b[0m\u001b[1;33m\u001b[0m\u001b[1;33m\u001b[0m\u001b[0m\n\u001b[0;32m      3\u001b[0m     \u001b[1;32mif\u001b[0m \u001b[0mi\u001b[0m\u001b[1;33m>=\u001b[0m \u001b[1;36m17\u001b[0m\u001b[1;33m:\u001b[0m\u001b[1;33m\u001b[0m\u001b[1;33m\u001b[0m\u001b[0m\n\u001b[1;32m----> 4\u001b[1;33m         \u001b[0mtop_grades\u001b[0m\u001b[1;33m.\u001b[0m\u001b[0mappend\u001b[0m\u001b[1;33m(\u001b[0m\u001b[0mi\u001b[0m\u001b[1;33m)\u001b[0m\u001b[1;33m\u001b[0m\u001b[1;33m\u001b[0m\u001b[0m\n\u001b[0m\u001b[0;32m      5\u001b[0m \u001b[1;33m\u001b[0m\u001b[0m\n",
      "\u001b[1;31mAttributeError\u001b[0m: 'numpy.ndarray' object has no attribute 'append'"
     ]
    }
   ],
   "source": [
    "top_grades =np.array([])\n",
    "for i in grades:\n",
    "    if i>= 17:\n",
    "        top_grades.append(i)\n",
    "        \n"
   ]
  },
  {
   "cell_type": "markdown",
   "metadata": {},
   "source": [
    "حال، پنج درایه اول این آرایه را به عنوان نمونه در آرایه زیر می‌ریزیم:"
   ]
  },
  {
   "cell_type": "code",
   "execution_count": null,
   "metadata": {},
   "outputs": [],
   "source": [
    "five_samples = "
   ]
  },
  {
   "cell_type": "markdown",
   "metadata": {},
   "source": [
    "با اجرای دستور زیر آرایه‌ها را ذخیره کنید تا پاسخ‌های‌تان مورد ارزیابی قرار گیرند:"
   ]
  },
  {
   "cell_type": "code",
   "execution_count": null,
   "metadata": {},
   "outputs": [],
   "source": [
    "np.savez(\"answers.npz\",grades = grades,top_grades = top_grades,five_samples = five_samples)"
   ]
  }
 ],
 "metadata": {
  "kernelspec": {
   "display_name": "Python 3",
   "language": "python",
   "name": "python3"
  },
  "language_info": {
   "codemirror_mode": {
    "name": "ipython",
    "version": 3
   },
   "file_extension": ".py",
   "mimetype": "text/x-python",
   "name": "python",
   "nbconvert_exporter": "python",
   "pygments_lexer": "ipython3",
   "version": "3.7.4"
  }
 },
 "nbformat": 4,
 "nbformat_minor": 4
}
